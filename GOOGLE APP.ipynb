{
  "nbformat": 4,
  "nbformat_minor": 0,
  "metadata": {
    "colab": {
      "name": "major_project_2.ipynb",
      "provenance": [],
      "collapsed_sections": []
    },
    "kernelspec": {
      "name": "python3",
      "display_name": "Python 3"
    },
    "language_info": {
      "name": "python"
    }
  },
  "cells": [
    {
      "cell_type": "code",
      "metadata": {
        "id": "7WuIFgLQPlO2"
      },
      "source": [
        "import pandas as pd\n",
        "import matplotlib.pyplot as plt\n",
        "import seaborn as sns\n",
        "import numpy as np\n",
        "\n"
      ],
      "execution_count": 6,
      "outputs": []
    },
    {
      "cell_type": "code",
      "metadata": {
        "id": "hy_bwMCGQPXn"
      },
      "source": [
        "df = pd.read_csv(\"googleplaystore.csv\")"
      ],
      "execution_count": 7,
      "outputs": []
    },
    {
      "cell_type": "code",
      "metadata": {
        "colab": {
          "base_uri": "https://localhost:8080/",
          "height": 388
        },
        "id": "zlvIQpkHSry9",
        "outputId": "45546a5a-c67a-4ec8-eb49-6b7ff86e50a8"
      },
      "source": [
        "df.head()\n"
      ],
      "execution_count": 8,
      "outputs": [
        {
          "output_type": "execute_result",
          "data": {
            "text/html": [
              "<div>\n",
              "<style scoped>\n",
              "    .dataframe tbody tr th:only-of-type {\n",
              "        vertical-align: middle;\n",
              "    }\n",
              "\n",
              "    .dataframe tbody tr th {\n",
              "        vertical-align: top;\n",
              "    }\n",
              "\n",
              "    .dataframe thead th {\n",
              "        text-align: right;\n",
              "    }\n",
              "</style>\n",
              "<table border=\"1\" class=\"dataframe\">\n",
              "  <thead>\n",
              "    <tr style=\"text-align: right;\">\n",
              "      <th></th>\n",
              "      <th>App</th>\n",
              "      <th>Category</th>\n",
              "      <th>Rating</th>\n",
              "      <th>Reviews</th>\n",
              "      <th>Size</th>\n",
              "      <th>Installs</th>\n",
              "      <th>Type</th>\n",
              "      <th>Price</th>\n",
              "      <th>Content Rating</th>\n",
              "      <th>Genres</th>\n",
              "      <th>Last Updated</th>\n",
              "      <th>Current Ver</th>\n",
              "      <th>Android Ver</th>\n",
              "    </tr>\n",
              "  </thead>\n",
              "  <tbody>\n",
              "    <tr>\n",
              "      <th>0</th>\n",
              "      <td>Photo Editor &amp; Candy Camera &amp; Grid &amp; ScrapBook</td>\n",
              "      <td>ART_AND_DESIGN</td>\n",
              "      <td>4.1</td>\n",
              "      <td>159</td>\n",
              "      <td>19M</td>\n",
              "      <td>10,000+</td>\n",
              "      <td>Free</td>\n",
              "      <td>0</td>\n",
              "      <td>Everyone</td>\n",
              "      <td>Art &amp; Design</td>\n",
              "      <td>January 7, 2018</td>\n",
              "      <td>1.0.0</td>\n",
              "      <td>4.0.3 and up</td>\n",
              "    </tr>\n",
              "    <tr>\n",
              "      <th>1</th>\n",
              "      <td>Coloring book moana</td>\n",
              "      <td>ART_AND_DESIGN</td>\n",
              "      <td>3.9</td>\n",
              "      <td>967</td>\n",
              "      <td>14M</td>\n",
              "      <td>500,000+</td>\n",
              "      <td>Free</td>\n",
              "      <td>0</td>\n",
              "      <td>Everyone</td>\n",
              "      <td>Art &amp; Design;Pretend Play</td>\n",
              "      <td>January 15, 2018</td>\n",
              "      <td>2.0.0</td>\n",
              "      <td>4.0.3 and up</td>\n",
              "    </tr>\n",
              "    <tr>\n",
              "      <th>2</th>\n",
              "      <td>U Launcher Lite – FREE Live Cool Themes, Hide ...</td>\n",
              "      <td>ART_AND_DESIGN</td>\n",
              "      <td>4.7</td>\n",
              "      <td>87510</td>\n",
              "      <td>8.7M</td>\n",
              "      <td>5,000,000+</td>\n",
              "      <td>Free</td>\n",
              "      <td>0</td>\n",
              "      <td>Everyone</td>\n",
              "      <td>Art &amp; Design</td>\n",
              "      <td>August 1, 2018</td>\n",
              "      <td>1.2.4</td>\n",
              "      <td>4.0.3 and up</td>\n",
              "    </tr>\n",
              "    <tr>\n",
              "      <th>3</th>\n",
              "      <td>Sketch - Draw &amp; Paint</td>\n",
              "      <td>ART_AND_DESIGN</td>\n",
              "      <td>4.5</td>\n",
              "      <td>215644</td>\n",
              "      <td>25M</td>\n",
              "      <td>50,000,000+</td>\n",
              "      <td>Free</td>\n",
              "      <td>0</td>\n",
              "      <td>Teen</td>\n",
              "      <td>Art &amp; Design</td>\n",
              "      <td>June 8, 2018</td>\n",
              "      <td>Varies with device</td>\n",
              "      <td>4.2 and up</td>\n",
              "    </tr>\n",
              "    <tr>\n",
              "      <th>4</th>\n",
              "      <td>Pixel Draw - Number Art Coloring Book</td>\n",
              "      <td>ART_AND_DESIGN</td>\n",
              "      <td>4.3</td>\n",
              "      <td>967</td>\n",
              "      <td>2.8M</td>\n",
              "      <td>100,000+</td>\n",
              "      <td>Free</td>\n",
              "      <td>0</td>\n",
              "      <td>Everyone</td>\n",
              "      <td>Art &amp; Design;Creativity</td>\n",
              "      <td>June 20, 2018</td>\n",
              "      <td>1.1</td>\n",
              "      <td>4.4 and up</td>\n",
              "    </tr>\n",
              "  </tbody>\n",
              "</table>\n",
              "</div>"
            ],
            "text/plain": [
              "                                                 App  ...   Android Ver\n",
              "0     Photo Editor & Candy Camera & Grid & ScrapBook  ...  4.0.3 and up\n",
              "1                                Coloring book moana  ...  4.0.3 and up\n",
              "2  U Launcher Lite – FREE Live Cool Themes, Hide ...  ...  4.0.3 and up\n",
              "3                              Sketch - Draw & Paint  ...    4.2 and up\n",
              "4              Pixel Draw - Number Art Coloring Book  ...    4.4 and up\n",
              "\n",
              "[5 rows x 13 columns]"
            ]
          },
          "metadata": {},
          "execution_count": 8
        }
      ]
    },
    {
      "cell_type": "code",
      "metadata": {
        "colab": {
          "base_uri": "https://localhost:8080/"
        },
        "id": "82cG2sthU4nr",
        "outputId": "a45c52f4-f4a2-44a8-d7e2-897a54de7234"
      },
      "source": [
        "df.info()\n"
      ],
      "execution_count": 9,
      "outputs": [
        {
          "output_type": "stream",
          "name": "stdout",
          "text": [
            "<class 'pandas.core.frame.DataFrame'>\n",
            "RangeIndex: 10841 entries, 0 to 10840\n",
            "Data columns (total 13 columns):\n",
            " #   Column          Non-Null Count  Dtype  \n",
            "---  ------          --------------  -----  \n",
            " 0   App             10841 non-null  object \n",
            " 1   Category        10841 non-null  object \n",
            " 2   Rating          9367 non-null   float64\n",
            " 3   Reviews         10841 non-null  object \n",
            " 4   Size            10841 non-null  object \n",
            " 5   Installs        10841 non-null  object \n",
            " 6   Type            10840 non-null  object \n",
            " 7   Price           10841 non-null  object \n",
            " 8   Content Rating  10840 non-null  object \n",
            " 9   Genres          10841 non-null  object \n",
            " 10  Last Updated    10841 non-null  object \n",
            " 11  Current Ver     10833 non-null  object \n",
            " 12  Android Ver     10838 non-null  object \n",
            "dtypes: float64(1), object(12)\n",
            "memory usage: 1.1+ MB\n"
          ]
        }
      ]
    },
    {
      "cell_type": "code",
      "metadata": {
        "colab": {
          "base_uri": "https://localhost:8080/"
        },
        "id": "2XLzLYvzU8Rx",
        "outputId": "0e7aeeec-2caf-41df-8eff-1e05b27a1c5b"
      },
      "source": [
        "df.shape\n"
      ],
      "execution_count": 10,
      "outputs": [
        {
          "output_type": "execute_result",
          "data": {
            "text/plain": [
              "(10841, 13)"
            ]
          },
          "metadata": {},
          "execution_count": 10
        }
      ]
    },
    {
      "cell_type": "code",
      "metadata": {
        "id": "ykAGmVqGU9u7",
        "colab": {
          "base_uri": "https://localhost:8080/"
        },
        "outputId": "b1e08362-953c-4a71-c2d4-7cc6ce2dfcc0"
      },
      "source": [
        "df.isna().sum()\n"
      ],
      "execution_count": 11,
      "outputs": [
        {
          "output_type": "execute_result",
          "data": {
            "text/plain": [
              "App                  0\n",
              "Category             0\n",
              "Rating            1474\n",
              "Reviews              0\n",
              "Size                 0\n",
              "Installs             0\n",
              "Type                 1\n",
              "Price                0\n",
              "Content Rating       1\n",
              "Genres               0\n",
              "Last Updated         0\n",
              "Current Ver          8\n",
              "Android Ver          3\n",
              "dtype: int64"
            ]
          },
          "metadata": {},
          "execution_count": 11
        }
      ]
    },
    {
      "cell_type": "code",
      "metadata": {
        "id": "n4z5qyPdVBCO",
        "colab": {
          "base_uri": "https://localhost:8080/",
          "height": 130
        },
        "outputId": "f1453b67-32ad-468b-f279-63d356af2e33"
      },
      "source": [
        "df[df['Reviews'] == '3.0M']\n"
      ],
      "execution_count": 12,
      "outputs": [
        {
          "output_type": "execute_result",
          "data": {
            "text/html": [
              "<div>\n",
              "<style scoped>\n",
              "    .dataframe tbody tr th:only-of-type {\n",
              "        vertical-align: middle;\n",
              "    }\n",
              "\n",
              "    .dataframe tbody tr th {\n",
              "        vertical-align: top;\n",
              "    }\n",
              "\n",
              "    .dataframe thead th {\n",
              "        text-align: right;\n",
              "    }\n",
              "</style>\n",
              "<table border=\"1\" class=\"dataframe\">\n",
              "  <thead>\n",
              "    <tr style=\"text-align: right;\">\n",
              "      <th></th>\n",
              "      <th>App</th>\n",
              "      <th>Category</th>\n",
              "      <th>Rating</th>\n",
              "      <th>Reviews</th>\n",
              "      <th>Size</th>\n",
              "      <th>Installs</th>\n",
              "      <th>Type</th>\n",
              "      <th>Price</th>\n",
              "      <th>Content Rating</th>\n",
              "      <th>Genres</th>\n",
              "      <th>Last Updated</th>\n",
              "      <th>Current Ver</th>\n",
              "      <th>Android Ver</th>\n",
              "    </tr>\n",
              "  </thead>\n",
              "  <tbody>\n",
              "    <tr>\n",
              "      <th>10472</th>\n",
              "      <td>Life Made WI-Fi Touchscreen Photo Frame</td>\n",
              "      <td>1.9</td>\n",
              "      <td>19.0</td>\n",
              "      <td>3.0M</td>\n",
              "      <td>1,000+</td>\n",
              "      <td>Free</td>\n",
              "      <td>0</td>\n",
              "      <td>Everyone</td>\n",
              "      <td>NaN</td>\n",
              "      <td>February 11, 2018</td>\n",
              "      <td>1.0.19</td>\n",
              "      <td>4.0 and up</td>\n",
              "      <td>NaN</td>\n",
              "    </tr>\n",
              "  </tbody>\n",
              "</table>\n",
              "</div>"
            ],
            "text/plain": [
              "                                           App Category  ...  Current Ver Android Ver\n",
              "10472  Life Made WI-Fi Touchscreen Photo Frame      1.9  ...   4.0 and up         NaN\n",
              "\n",
              "[1 rows x 13 columns]"
            ]
          },
          "metadata": {},
          "execution_count": 12
        }
      ]
    },
    {
      "cell_type": "code",
      "metadata": {
        "id": "SadqTxKzVFIl"
      },
      "source": [
        "for i in range(len(df.columns)-1,1,-1):\n",
        "    df.loc[[df[df['Category']=='1.9'].index[0]],[df.columns[i]]]=df.loc[[df[df['Category']=='1.9'].index[0]],[df.columns[i-1]]].values\n",
        "df.loc[[df[df['Category']=='1.9'].index[0]],['Category']]='ART_AND_DESIGN'\n"
      ],
      "execution_count": 13,
      "outputs": []
    },
    {
      "cell_type": "code",
      "metadata": {
        "id": "W0_LRR3VVFVi",
        "colab": {
          "base_uri": "https://localhost:8080/"
        },
        "outputId": "2c7487b6-8a70-42ef-a089-21f8ecc3bf8b"
      },
      "source": [
        "df.iloc[10472]\n"
      ],
      "execution_count": 14,
      "outputs": [
        {
          "output_type": "execute_result",
          "data": {
            "text/plain": [
              "App               Life Made WI-Fi Touchscreen Photo Frame\n",
              "Category                                   ART_AND_DESIGN\n",
              "Rating                                                1.9\n",
              "Reviews                                                19\n",
              "Size                                                 3.0M\n",
              "Installs                                           1,000+\n",
              "Type                                                 Free\n",
              "Price                                                   0\n",
              "Content Rating                                   Everyone\n",
              "Genres                                                NaN\n",
              "Last Updated                            February 11, 2018\n",
              "Current Ver                                        1.0.19\n",
              "Android Ver                                    4.0 and up\n",
              "Name: 10472, dtype: object"
            ]
          },
          "metadata": {},
          "execution_count": 14
        }
      ]
    },
    {
      "cell_type": "code",
      "metadata": {
        "id": "2tC9YOzHVOHv"
      },
      "source": [
        "df['Reviews']=df['Reviews'].astype(int)\n"
      ],
      "execution_count": 15,
      "outputs": []
    },
    {
      "cell_type": "code",
      "metadata": {
        "id": "Dw17gHCvVPIi"
      },
      "source": [
        "df['Price'].replace(to_replace='0', value='$0', inplace=True)\n",
        "df['Price'] = df['Price'].apply(lambda a : a[1:])\n",
        "df['Price'] = df['Price'].astype(float)"
      ],
      "execution_count": 16,
      "outputs": []
    },
    {
      "cell_type": "code",
      "metadata": {
        "id": "Wynzxa8JVVue",
        "colab": {
          "base_uri": "https://localhost:8080/"
        },
        "outputId": "f8b508ba-1d53-4705-fd9e-5ac78b3d6def"
      },
      "source": [
        "df['Size']"
      ],
      "execution_count": 17,
      "outputs": [
        {
          "output_type": "execute_result",
          "data": {
            "text/plain": [
              "0                       19M\n",
              "1                       14M\n",
              "2                      8.7M\n",
              "3                       25M\n",
              "4                      2.8M\n",
              "                ...        \n",
              "10836                   53M\n",
              "10837                  3.6M\n",
              "10838                  9.5M\n",
              "10839    Varies with device\n",
              "10840                   19M\n",
              "Name: Size, Length: 10841, dtype: object"
            ]
          },
          "metadata": {},
          "execution_count": 17
        }
      ]
    },
    {
      "cell_type": "code",
      "metadata": {
        "id": "ks1fMosbVY13"
      },
      "source": [
        "df['Size'].replace(to_replace=\"Varies with device\", value=\"0M\", inplace=True)\n",
        "df['Size']=df['Size'].apply(lambda a : a.replace(',',''))"
      ],
      "execution_count": 18,
      "outputs": []
    },
    {
      "cell_type": "code",
      "metadata": {
        "id": "JMgH0_rBVZNB",
        "colab": {
          "base_uri": "https://localhost:8080/"
        },
        "outputId": "59d3f4d7-5800-4929-d6c6-c2012bd72fa3"
      },
      "source": [
        "df['Size']"
      ],
      "execution_count": 19,
      "outputs": [
        {
          "output_type": "execute_result",
          "data": {
            "text/plain": [
              "0         19M\n",
              "1         14M\n",
              "2        8.7M\n",
              "3         25M\n",
              "4        2.8M\n",
              "         ... \n",
              "10836     53M\n",
              "10837    3.6M\n",
              "10838    9.5M\n",
              "10839      0M\n",
              "10840     19M\n",
              "Name: Size, Length: 10841, dtype: object"
            ]
          },
          "metadata": {},
          "execution_count": 19
        }
      ]
    },
    {
      "cell_type": "code",
      "metadata": {
        "id": "TZfk89U2VfQE"
      },
      "source": [
        "df['Value']=df['Size'].apply(lambda a : a[:-1])\n",
        "df['Unit']=df['Size'].apply(lambda a : a[-1:])\n",
        "df['Value']=df['Value'].astype(float)"
      ],
      "execution_count": 20,
      "outputs": []
    },
    {
      "cell_type": "code",
      "metadata": {
        "id": "5eveL-xTVl4U",
        "colab": {
          "base_uri": "https://localhost:8080/",
          "height": 203
        },
        "outputId": "6c308574-5bfa-45c6-bf41-58de36eca8b7"
      },
      "source": [
        "df[['Value', 'Unit']].head()"
      ],
      "execution_count": 21,
      "outputs": [
        {
          "output_type": "execute_result",
          "data": {
            "text/html": [
              "<div>\n",
              "<style scoped>\n",
              "    .dataframe tbody tr th:only-of-type {\n",
              "        vertical-align: middle;\n",
              "    }\n",
              "\n",
              "    .dataframe tbody tr th {\n",
              "        vertical-align: top;\n",
              "    }\n",
              "\n",
              "    .dataframe thead th {\n",
              "        text-align: right;\n",
              "    }\n",
              "</style>\n",
              "<table border=\"1\" class=\"dataframe\">\n",
              "  <thead>\n",
              "    <tr style=\"text-align: right;\">\n",
              "      <th></th>\n",
              "      <th>Value</th>\n",
              "      <th>Unit</th>\n",
              "    </tr>\n",
              "  </thead>\n",
              "  <tbody>\n",
              "    <tr>\n",
              "      <th>0</th>\n",
              "      <td>19.0</td>\n",
              "      <td>M</td>\n",
              "    </tr>\n",
              "    <tr>\n",
              "      <th>1</th>\n",
              "      <td>14.0</td>\n",
              "      <td>M</td>\n",
              "    </tr>\n",
              "    <tr>\n",
              "      <th>2</th>\n",
              "      <td>8.7</td>\n",
              "      <td>M</td>\n",
              "    </tr>\n",
              "    <tr>\n",
              "      <th>3</th>\n",
              "      <td>25.0</td>\n",
              "      <td>M</td>\n",
              "    </tr>\n",
              "    <tr>\n",
              "      <th>4</th>\n",
              "      <td>2.8</td>\n",
              "      <td>M</td>\n",
              "    </tr>\n",
              "  </tbody>\n",
              "</table>\n",
              "</div>"
            ],
            "text/plain": [
              "   Value Unit\n",
              "0   19.0    M\n",
              "1   14.0    M\n",
              "2    8.7    M\n",
              "3   25.0    M\n",
              "4    2.8    M"
            ]
          },
          "metadata": {},
          "execution_count": 21
        }
      ]
    },
    {
      "cell_type": "code",
      "metadata": {
        "id": "9o8H7WffVoY5"
      },
      "source": [
        "df['Installs'].replace(to_replace='0',value='0+',inplace=True)\n",
        "df['Installs']=df['Installs'].apply(lambda a : a.replace(',',''))\n",
        "\n",
        "df['Installs']=df['Installs'].apply(lambda a : a[:-1])\n",
        "df['Installs']=df['Installs'].astype(int)"
      ],
      "execution_count": 22,
      "outputs": []
    },
    {
      "cell_type": "code",
      "metadata": {
        "id": "6GaxmzcfVrTX",
        "colab": {
          "base_uri": "https://localhost:8080/"
        },
        "outputId": "ef4db4eb-253b-45d0-89cc-4836ac2cb6f5"
      },
      "source": [
        "df['Installs'].head()"
      ],
      "execution_count": 23,
      "outputs": [
        {
          "output_type": "execute_result",
          "data": {
            "text/plain": [
              "0       10000\n",
              "1      500000\n",
              "2     5000000\n",
              "3    50000000\n",
              "4      100000\n",
              "Name: Installs, dtype: int64"
            ]
          },
          "metadata": {},
          "execution_count": 23
        }
      ]
    },
    {
      "cell_type": "code",
      "metadata": {
        "id": "88C20n-6VtJk",
        "colab": {
          "base_uri": "https://localhost:8080/",
          "height": 663
        },
        "outputId": "c641cf7d-3baa-47ac-b6ee-c47f1b47aafb"
      },
      "source": [
        "df['Rating'] = df['Rating'].astype(float)\n",
        "plt.figure(figsize=(15, 8))\n",
        "sns.boxplot(x=\"Category\", y=\"Rating\", data=df)\n",
        "plt.xticks(rotation=90)"
      ],
      "execution_count": 24,
      "outputs": [
        {
          "output_type": "execute_result",
          "data": {
            "text/plain": [
              "(array([ 0,  1,  2,  3,  4,  5,  6,  7,  8,  9, 10, 11, 12, 13, 14, 15, 16,\n",
              "        17, 18, 19, 20, 21, 22, 23, 24, 25, 26, 27, 28, 29, 30, 31, 32]),\n",
              " <a list of 33 Text major ticklabel objects>)"
            ]
          },
          "metadata": {},
          "execution_count": 24
        },
        {
          "output_type": "display_data",
          "data": {
            "image/png": "[encoded data removed]",
            "text/plain": [
              "<Figure size 1080x576 with 1 Axes>"
            ]
          },
          "metadata": {
            "needs_background": "light"
          }
        }
      ]
    },
    {
      "cell_type": "code",
      "metadata": {
        "id": "jZVKsPaDVwde",
        "colab": {
          "base_uri": "https://localhost:8080/",
          "height": 514
        },
        "outputId": "b89bdf4c-6d7e-4b46-c80a-efd9dcc7f209"
      },
      "source": [
        "plt.figure(figsize=(15, 8))\n",
        "sns.boxplot(x=\"Content Rating\", y=\"Rating\", data=df)"
      ],
      "execution_count": 25,
      "outputs": [
        {
          "output_type": "execute_result",
          "data": {
            "text/plain": [
              "<matplotlib.axes._subplots.AxesSubplot at 0x7f30ae9b4350>"
            ]
          },
          "metadata": {},
          "execution_count": 25
        },
        {
          "output_type": "display_data",
          "data": {
            "image/png": "[encoded data removed]",
            "text/plain": [
              "<Figure size 1080x576 with 1 Axes>"
            ]
          },
          "metadata": {
            "needs_background": "light"
          }
        }
      ]
    },
    {
      "cell_type": "code",
      "metadata": {
        "id": "qeaXC-sFVzbJ",
        "colab": {
          "base_uri": "https://localhost:8080/"
        },
        "outputId": "a5c813a5-47b7-473a-bd3d-f83656222f05"
      },
      "source": [
        "df['Content Rating'].value_counts()"
      ],
      "execution_count": 26,
      "outputs": [
        {
          "output_type": "execute_result",
          "data": {
            "text/plain": [
              "Everyone           8715\n",
              "Teen               1208\n",
              "Mature 17+          499\n",
              "Everyone 10+        414\n",
              "Adults only 18+       3\n",
              "Unrated               2\n",
              "Name: Content Rating, dtype: int64"
            ]
          },
          "metadata": {},
          "execution_count": 26
        }
      ]
    },
    {
      "cell_type": "code",
      "metadata": {
        "id": "YAJNxzpqV11F",
        "colab": {
          "base_uri": "https://localhost:8080/",
          "height": 130
        },
        "outputId": "e04a6f0c-c65d-47cf-f5e6-5566a6159ac3"
      },
      "source": [
        "df[df['Genres'].isnull()]"
      ],
      "execution_count": 27,
      "outputs": [
        {
          "output_type": "execute_result",
          "data": {
            "text/html": [
              "<div>\n",
              "<style scoped>\n",
              "    .dataframe tbody tr th:only-of-type {\n",
              "        vertical-align: middle;\n",
              "    }\n",
              "\n",
              "    .dataframe tbody tr th {\n",
              "        vertical-align: top;\n",
              "    }\n",
              "\n",
              "    .dataframe thead th {\n",
              "        text-align: right;\n",
              "    }\n",
              "</style>\n",
              "<table border=\"1\" class=\"dataframe\">\n",
              "  <thead>\n",
              "    <tr style=\"text-align: right;\">\n",
              "      <th></th>\n",
              "      <th>App</th>\n",
              "      <th>Category</th>\n",
              "      <th>Rating</th>\n",
              "      <th>Reviews</th>\n",
              "      <th>Size</th>\n",
              "      <th>Installs</th>\n",
              "      <th>Type</th>\n",
              "      <th>Price</th>\n",
              "      <th>Content Rating</th>\n",
              "      <th>Genres</th>\n",
              "      <th>Last Updated</th>\n",
              "      <th>Current Ver</th>\n",
              "      <th>Android Ver</th>\n",
              "      <th>Value</th>\n",
              "      <th>Unit</th>\n",
              "    </tr>\n",
              "  </thead>\n",
              "  <tbody>\n",
              "    <tr>\n",
              "      <th>10472</th>\n",
              "      <td>Life Made WI-Fi Touchscreen Photo Frame</td>\n",
              "      <td>ART_AND_DESIGN</td>\n",
              "      <td>1.9</td>\n",
              "      <td>19</td>\n",
              "      <td>3.0M</td>\n",
              "      <td>1000</td>\n",
              "      <td>Free</td>\n",
              "      <td>0.0</td>\n",
              "      <td>Everyone</td>\n",
              "      <td>NaN</td>\n",
              "      <td>February 11, 2018</td>\n",
              "      <td>1.0.19</td>\n",
              "      <td>4.0 and up</td>\n",
              "      <td>3.0</td>\n",
              "      <td>M</td>\n",
              "    </tr>\n",
              "  </tbody>\n",
              "</table>\n",
              "</div>"
            ],
            "text/plain": [
              "                                           App        Category  ...  Value  Unit\n",
              "10472  Life Made WI-Fi Touchscreen Photo Frame  ART_AND_DESIGN  ...    3.0     M\n",
              "\n",
              "[1 rows x 15 columns]"
            ]
          },
          "metadata": {},
          "execution_count": 27
        }
      ]
    },
    {
      "cell_type": "code",
      "metadata": {
        "id": "4Szxz3MGV4YV"
      },
      "source": [
        "df.loc[[df[df['Genres'].isnull()].index[0]],['Genres']]='Art & Design'"
      ],
      "execution_count": 28,
      "outputs": []
    },
    {
      "cell_type": "code",
      "metadata": {
        "id": "2snzYUoPV69F",
        "colab": {
          "base_uri": "https://localhost:8080/",
          "height": 114
        },
        "outputId": "201e13a2-7d0c-4672-e601-b993f34eaa81"
      },
      "source": [
        "df[df['Type'].isnull()]"
      ],
      "execution_count": 29,
      "outputs": [
        {
          "output_type": "execute_result",
          "data": {
            "text/html": [
              "<div>\n",
              "<style scoped>\n",
              "    .dataframe tbody tr th:only-of-type {\n",
              "        vertical-align: middle;\n",
              "    }\n",
              "\n",
              "    .dataframe tbody tr th {\n",
              "        vertical-align: top;\n",
              "    }\n",
              "\n",
              "    .dataframe thead th {\n",
              "        text-align: right;\n",
              "    }\n",
              "</style>\n",
              "<table border=\"1\" class=\"dataframe\">\n",
              "  <thead>\n",
              "    <tr style=\"text-align: right;\">\n",
              "      <th></th>\n",
              "      <th>App</th>\n",
              "      <th>Category</th>\n",
              "      <th>Rating</th>\n",
              "      <th>Reviews</th>\n",
              "      <th>Size</th>\n",
              "      <th>Installs</th>\n",
              "      <th>Type</th>\n",
              "      <th>Price</th>\n",
              "      <th>Content Rating</th>\n",
              "      <th>Genres</th>\n",
              "      <th>Last Updated</th>\n",
              "      <th>Current Ver</th>\n",
              "      <th>Android Ver</th>\n",
              "      <th>Value</th>\n",
              "      <th>Unit</th>\n",
              "    </tr>\n",
              "  </thead>\n",
              "  <tbody>\n",
              "    <tr>\n",
              "      <th>9148</th>\n",
              "      <td>Command &amp; Conquer: Rivals</td>\n",
              "      <td>FAMILY</td>\n",
              "      <td>NaN</td>\n",
              "      <td>0</td>\n",
              "      <td>0M</td>\n",
              "      <td>0</td>\n",
              "      <td>NaN</td>\n",
              "      <td>0.0</td>\n",
              "      <td>Everyone 10+</td>\n",
              "      <td>Strategy</td>\n",
              "      <td>June 28, 2018</td>\n",
              "      <td>Varies with device</td>\n",
              "      <td>Varies with device</td>\n",
              "      <td>0.0</td>\n",
              "      <td>M</td>\n",
              "    </tr>\n",
              "  </tbody>\n",
              "</table>\n",
              "</div>"
            ],
            "text/plain": [
              "                            App Category  ...  Value  Unit\n",
              "9148  Command & Conquer: Rivals   FAMILY  ...    0.0     M\n",
              "\n",
              "[1 rows x 15 columns]"
            ]
          },
          "metadata": {},
          "execution_count": 29
        }
      ]
    },
    {
      "cell_type": "code",
      "metadata": {
        "id": "ETH3dmNOV9Cw"
      },
      "source": [
        "df['Type'].fillna(df['Type'].mode()[0],inplace=True)"
      ],
      "execution_count": 30,
      "outputs": []
    },
    {
      "cell_type": "code",
      "metadata": {
        "id": "8MU5oaIpV_fD",
        "colab": {
          "base_uri": "https://localhost:8080/",
          "height": 178
        },
        "outputId": "10dd27cb-c7ec-439e-9d9c-7852488dbf54"
      },
      "source": [
        "df[df['Android Ver'].isnull()]"
      ],
      "execution_count": 31,
      "outputs": [
        {
          "output_type": "execute_result",
          "data": {
            "text/html": [
              "<div>\n",
              "<style scoped>\n",
              "    .dataframe tbody tr th:only-of-type {\n",
              "        vertical-align: middle;\n",
              "    }\n",
              "\n",
              "    .dataframe tbody tr th {\n",
              "        vertical-align: top;\n",
              "    }\n",
              "\n",
              "    .dataframe thead th {\n",
              "        text-align: right;\n",
              "    }\n",
              "</style>\n",
              "<table border=\"1\" class=\"dataframe\">\n",
              "  <thead>\n",
              "    <tr style=\"text-align: right;\">\n",
              "      <th></th>\n",
              "      <th>App</th>\n",
              "      <th>Category</th>\n",
              "      <th>Rating</th>\n",
              "      <th>Reviews</th>\n",
              "      <th>Size</th>\n",
              "      <th>Installs</th>\n",
              "      <th>Type</th>\n",
              "      <th>Price</th>\n",
              "      <th>Content Rating</th>\n",
              "      <th>Genres</th>\n",
              "      <th>Last Updated</th>\n",
              "      <th>Current Ver</th>\n",
              "      <th>Android Ver</th>\n",
              "      <th>Value</th>\n",
              "      <th>Unit</th>\n",
              "    </tr>\n",
              "  </thead>\n",
              "  <tbody>\n",
              "    <tr>\n",
              "      <th>4453</th>\n",
              "      <td>[substratum] Vacuum: P</td>\n",
              "      <td>PERSONALIZATION</td>\n",
              "      <td>4.4</td>\n",
              "      <td>230</td>\n",
              "      <td>11M</td>\n",
              "      <td>1000</td>\n",
              "      <td>Paid</td>\n",
              "      <td>1.49</td>\n",
              "      <td>Everyone</td>\n",
              "      <td>Personalization</td>\n",
              "      <td>July 20, 2018</td>\n",
              "      <td>4.4</td>\n",
              "      <td>NaN</td>\n",
              "      <td>11.0</td>\n",
              "      <td>M</td>\n",
              "    </tr>\n",
              "    <tr>\n",
              "      <th>4490</th>\n",
              "      <td>Pi Dark [substratum]</td>\n",
              "      <td>PERSONALIZATION</td>\n",
              "      <td>4.5</td>\n",
              "      <td>189</td>\n",
              "      <td>2.1M</td>\n",
              "      <td>10000</td>\n",
              "      <td>Free</td>\n",
              "      <td>0.00</td>\n",
              "      <td>Everyone</td>\n",
              "      <td>Personalization</td>\n",
              "      <td>March 27, 2018</td>\n",
              "      <td>1.1</td>\n",
              "      <td>NaN</td>\n",
              "      <td>2.1</td>\n",
              "      <td>M</td>\n",
              "    </tr>\n",
              "  </tbody>\n",
              "</table>\n",
              "</div>"
            ],
            "text/plain": [
              "                         App         Category  Rating  ...  Android Ver Value  Unit\n",
              "4453  [substratum] Vacuum: P  PERSONALIZATION     4.4  ...          NaN  11.0     M\n",
              "4490    Pi Dark [substratum]  PERSONALIZATION     4.5  ...          NaN   2.1     M\n",
              "\n",
              "[2 rows x 15 columns]"
            ]
          },
          "metadata": {},
          "execution_count": 31
        }
      ]
    },
    {
      "cell_type": "code",
      "metadata": {
        "id": "HB3x8phIWCtF"
      },
      "source": [
        "df['Android Ver'].fillna(df['Android Ver'].mode()[0],inplace=True)"
      ],
      "execution_count": 32,
      "outputs": []
    },
    {
      "cell_type": "code",
      "metadata": {
        "id": "c7YOFUqGWFR8",
        "colab": {
          "base_uri": "https://localhost:8080/",
          "height": 534
        },
        "outputId": "4a111fc2-56ba-4e96-b2ad-e047b0b6d5c2"
      },
      "source": [
        "df[df['Current Ver'].isnull()]"
      ],
      "execution_count": 33,
      "outputs": [
        {
          "output_type": "execute_result",
          "data": {
            "text/html": [
              "<div>\n",
              "<style scoped>\n",
              "    .dataframe tbody tr th:only-of-type {\n",
              "        vertical-align: middle;\n",
              "    }\n",
              "\n",
              "    .dataframe tbody tr th {\n",
              "        vertical-align: top;\n",
              "    }\n",
              "\n",
              "    .dataframe thead th {\n",
              "        text-align: right;\n",
              "    }\n",
              "</style>\n",
              "<table border=\"1\" class=\"dataframe\">\n",
              "  <thead>\n",
              "    <tr style=\"text-align: right;\">\n",
              "      <th></th>\n",
              "      <th>App</th>\n",
              "      <th>Category</th>\n",
              "      <th>Rating</th>\n",
              "      <th>Reviews</th>\n",
              "      <th>Size</th>\n",
              "      <th>Installs</th>\n",
              "      <th>Type</th>\n",
              "      <th>Price</th>\n",
              "      <th>Content Rating</th>\n",
              "      <th>Genres</th>\n",
              "      <th>Last Updated</th>\n",
              "      <th>Current Ver</th>\n",
              "      <th>Android Ver</th>\n",
              "      <th>Value</th>\n",
              "      <th>Unit</th>\n",
              "    </tr>\n",
              "  </thead>\n",
              "  <tbody>\n",
              "    <tr>\n",
              "      <th>15</th>\n",
              "      <td>Learn To Draw Kawaii Characters</td>\n",
              "      <td>ART_AND_DESIGN</td>\n",
              "      <td>3.2</td>\n",
              "      <td>55</td>\n",
              "      <td>2.7M</td>\n",
              "      <td>5000</td>\n",
              "      <td>Free</td>\n",
              "      <td>0.00</td>\n",
              "      <td>Everyone</td>\n",
              "      <td>Art &amp; Design</td>\n",
              "      <td>June 6, 2018</td>\n",
              "      <td>NaN</td>\n",
              "      <td>4.2 and up</td>\n",
              "      <td>2.7</td>\n",
              "      <td>M</td>\n",
              "    </tr>\n",
              "    <tr>\n",
              "      <th>1553</th>\n",
              "      <td>Market Update Helper</td>\n",
              "      <td>LIBRARIES_AND_DEMO</td>\n",
              "      <td>4.1</td>\n",
              "      <td>20145</td>\n",
              "      <td>11k</td>\n",
              "      <td>1000000</td>\n",
              "      <td>Free</td>\n",
              "      <td>0.00</td>\n",
              "      <td>Everyone</td>\n",
              "      <td>Libraries &amp; Demo</td>\n",
              "      <td>February 12, 2013</td>\n",
              "      <td>NaN</td>\n",
              "      <td>1.5 and up</td>\n",
              "      <td>11.0</td>\n",
              "      <td>k</td>\n",
              "    </tr>\n",
              "    <tr>\n",
              "      <th>6322</th>\n",
              "      <td>Virtual DJ Sound Mixer</td>\n",
              "      <td>TOOLS</td>\n",
              "      <td>4.2</td>\n",
              "      <td>4010</td>\n",
              "      <td>8.7M</td>\n",
              "      <td>500000</td>\n",
              "      <td>Free</td>\n",
              "      <td>0.00</td>\n",
              "      <td>Everyone</td>\n",
              "      <td>Tools</td>\n",
              "      <td>May 10, 2017</td>\n",
              "      <td>NaN</td>\n",
              "      <td>4.0 and up</td>\n",
              "      <td>8.7</td>\n",
              "      <td>M</td>\n",
              "    </tr>\n",
              "    <tr>\n",
              "      <th>6803</th>\n",
              "      <td>BT Master</td>\n",
              "      <td>FAMILY</td>\n",
              "      <td>NaN</td>\n",
              "      <td>0</td>\n",
              "      <td>222k</td>\n",
              "      <td>100</td>\n",
              "      <td>Free</td>\n",
              "      <td>0.00</td>\n",
              "      <td>Everyone</td>\n",
              "      <td>Education</td>\n",
              "      <td>November 6, 2016</td>\n",
              "      <td>NaN</td>\n",
              "      <td>1.6 and up</td>\n",
              "      <td>222.0</td>\n",
              "      <td>k</td>\n",
              "    </tr>\n",
              "    <tr>\n",
              "      <th>7333</th>\n",
              "      <td>Dots puzzle</td>\n",
              "      <td>FAMILY</td>\n",
              "      <td>4.0</td>\n",
              "      <td>179</td>\n",
              "      <td>14M</td>\n",
              "      <td>50000</td>\n",
              "      <td>Paid</td>\n",
              "      <td>0.99</td>\n",
              "      <td>Everyone</td>\n",
              "      <td>Puzzle</td>\n",
              "      <td>April 18, 2018</td>\n",
              "      <td>NaN</td>\n",
              "      <td>4.0 and up</td>\n",
              "      <td>14.0</td>\n",
              "      <td>M</td>\n",
              "    </tr>\n",
              "    <tr>\n",
              "      <th>7407</th>\n",
              "      <td>Calculate My IQ</td>\n",
              "      <td>FAMILY</td>\n",
              "      <td>NaN</td>\n",
              "      <td>44</td>\n",
              "      <td>7.2M</td>\n",
              "      <td>10000</td>\n",
              "      <td>Free</td>\n",
              "      <td>0.00</td>\n",
              "      <td>Everyone</td>\n",
              "      <td>Entertainment</td>\n",
              "      <td>April 3, 2017</td>\n",
              "      <td>NaN</td>\n",
              "      <td>2.3 and up</td>\n",
              "      <td>7.2</td>\n",
              "      <td>M</td>\n",
              "    </tr>\n",
              "    <tr>\n",
              "      <th>7730</th>\n",
              "      <td>UFO-CQ</td>\n",
              "      <td>TOOLS</td>\n",
              "      <td>NaN</td>\n",
              "      <td>1</td>\n",
              "      <td>237k</td>\n",
              "      <td>10</td>\n",
              "      <td>Paid</td>\n",
              "      <td>0.99</td>\n",
              "      <td>Everyone</td>\n",
              "      <td>Tools</td>\n",
              "      <td>July 4, 2016</td>\n",
              "      <td>NaN</td>\n",
              "      <td>2.0 and up</td>\n",
              "      <td>237.0</td>\n",
              "      <td>k</td>\n",
              "    </tr>\n",
              "    <tr>\n",
              "      <th>10342</th>\n",
              "      <td>La Fe de Jesus</td>\n",
              "      <td>BOOKS_AND_REFERENCE</td>\n",
              "      <td>NaN</td>\n",
              "      <td>8</td>\n",
              "      <td>658k</td>\n",
              "      <td>1000</td>\n",
              "      <td>Free</td>\n",
              "      <td>0.00</td>\n",
              "      <td>Everyone</td>\n",
              "      <td>Books &amp; Reference</td>\n",
              "      <td>January 31, 2017</td>\n",
              "      <td>NaN</td>\n",
              "      <td>3.0 and up</td>\n",
              "      <td>658.0</td>\n",
              "      <td>k</td>\n",
              "    </tr>\n",
              "  </tbody>\n",
              "</table>\n",
              "</div>"
            ],
            "text/plain": [
              "                                   App             Category  ...  Value  Unit\n",
              "15     Learn To Draw Kawaii Characters       ART_AND_DESIGN  ...    2.7     M\n",
              "1553              Market Update Helper   LIBRARIES_AND_DEMO  ...   11.0     k\n",
              "6322            Virtual DJ Sound Mixer                TOOLS  ...    8.7     M\n",
              "6803                         BT Master               FAMILY  ...  222.0     k\n",
              "7333                       Dots puzzle               FAMILY  ...   14.0     M\n",
              "7407                   Calculate My IQ               FAMILY  ...    7.2     M\n",
              "7730                            UFO-CQ                TOOLS  ...  237.0     k\n",
              "10342                   La Fe de Jesus  BOOKS_AND_REFERENCE  ...  658.0     k\n",
              "\n",
              "[8 rows x 15 columns]"
            ]
          },
          "metadata": {},
          "execution_count": 33
        }
      ]
    },
    {
      "cell_type": "code",
      "metadata": {
        "id": "DgjEcnyqWIC8"
      },
      "source": [
        "temp=pd.DataFrame()\n",
        "for i in df['Category'].unique():\n",
        "    temp1=df[(df['Category']==i)]['Rating'].fillna(df[(df['Category']==i)]['Rating'].mode()[0])\n",
        "    temp=pd.concat([temp,temp1])"
      ],
      "execution_count": 34,
      "outputs": []
    },
    {
      "cell_type": "code",
      "metadata": {
        "id": "UBybsSbWWJ7z"
      },
      "source": [
        "\n",
        "df['Rating']=temp"
      ],
      "execution_count": 35,
      "outputs": []
    },
    {
      "cell_type": "code",
      "metadata": {
        "id": "4BoFRbPnWLq9",
        "colab": {
          "base_uri": "https://localhost:8080/"
        },
        "outputId": "9faa1cd7-c207-4686-ba26-f982b472c347"
      },
      "source": [
        "df.info()"
      ],
      "execution_count": 36,
      "outputs": [
        {
          "output_type": "stream",
          "name": "stdout",
          "text": [
            "<class 'pandas.core.frame.DataFrame'>\n",
            "RangeIndex: 10841 entries, 0 to 10840\n",
            "Data columns (total 15 columns):\n",
            " #   Column          Non-Null Count  Dtype  \n",
            "---  ------          --------------  -----  \n",
            " 0   App             10841 non-null  object \n",
            " 1   Category        10841 non-null  object \n",
            " 2   Rating          10841 non-null  float64\n",
            " 3   Reviews         10841 non-null  int64  \n",
            " 4   Size            10841 non-null  object \n",
            " 5   Installs        10841 non-null  int64  \n",
            " 6   Type            10841 non-null  object \n",
            " 7   Price           10841 non-null  float64\n",
            " 8   Content Rating  10841 non-null  object \n",
            " 9   Genres          10841 non-null  object \n",
            " 10  Last Updated    10841 non-null  object \n",
            " 11  Current Ver     10833 non-null  object \n",
            " 12  Android Ver     10841 non-null  object \n",
            " 13  Value           10841 non-null  float64\n",
            " 14  Unit            10841 non-null  object \n",
            "dtypes: float64(3), int64(2), object(10)\n",
            "memory usage: 1.2+ MB\n"
          ]
        }
      ]
    },
    {
      "cell_type": "code",
      "metadata": {
        "id": "SBiUoXFmWOEt",
        "colab": {
          "base_uri": "https://localhost:8080/",
          "height": 351
        },
        "outputId": "65a6588a-7ba3-45f5-a7c1-462dd9fb58a6"
      },
      "source": [
        "plt.figure(figsize=(10,5))\n",
        "sns.scatterplot(x='Reviews',y='Rating',data=df)"
      ],
      "execution_count": 37,
      "outputs": [
        {
          "output_type": "execute_result",
          "data": {
            "text/plain": [
              "<matplotlib.axes._subplots.AxesSubplot at 0x7f30ae6b6b50>"
            ]
          },
          "metadata": {},
          "execution_count": 37
        },
        {
          "output_type": "display_data",
          "data": {
            "image/png": "[encoded data removed]",
            "text/plain": [
              "<Figure size 720x360 with 1 Axes>"
            ]
          },
          "metadata": {
            "needs_background": "light"
          }
        }
      ]
    },
    {
      "cell_type": "code",
      "metadata": {
        "id": "sX5OiSI0WQoB",
        "colab": {
          "base_uri": "https://localhost:8080/",
          "height": 362
        },
        "outputId": "eec4a5c2-e251-4bac-8d5e-05b24f13396f"
      },
      "source": [
        "plt.figure(figsize=(10,5))\n",
        "sns.scatterplot(x='Price',y='Reviews',data=df)"
      ],
      "execution_count": 38,
      "outputs": [
        {
          "output_type": "execute_result",
          "data": {
            "text/plain": [
              "<matplotlib.axes._subplots.AxesSubplot at 0x7f30accf9e50>"
            ]
          },
          "metadata": {},
          "execution_count": 38
        },
        {
          "output_type": "display_data",
          "data": {
            "image/png": "[encoded data removed]",
            "text/plain": [
              "<Figure size 720x360 with 1 Axes>"
            ]
          },
          "metadata": {
            "needs_background": "light"
          }
        }
      ]
    },
    {
      "cell_type": "code",
      "metadata": {
        "id": "W4sfHzlIWSlN",
        "colab": {
          "base_uri": "https://localhost:8080/",
          "height": 351
        },
        "outputId": "8905be7c-41dd-4411-b532-6d7b346ae9c6"
      },
      "source": [
        "plt.figure(figsize=(10,5))\n",
        "sns.scatterplot(x='Price',y='Rating',data=df)"
      ],
      "execution_count": 39,
      "outputs": [
        {
          "output_type": "execute_result",
          "data": {
            "text/plain": [
              "<matplotlib.axes._subplots.AxesSubplot at 0x7f30aca58cd0>"
            ]
          },
          "metadata": {},
          "execution_count": 39
        },
        {
          "output_type": "display_data",
          "data": {
            "image/png": "[encoded data removed]",
            "text/plain": [
              "<Figure size 720x360 with 1 Axes>"
            ]
          },
          "metadata": {
            "needs_background": "light"
          }
        }
      ]
    },
    {
      "cell_type": "code",
      "metadata": {
        "id": "Kl-hNpM4WV3z",
        "colab": {
          "base_uri": "https://localhost:8080/",
          "height": 395
        },
        "outputId": "ae654c56-9d4e-4910-ea93-e6412f48973d"
      },
      "source": [
        "plt.figure(figsize=(10,6))\n",
        "sns.heatmap(df.corr(),annot=True,cmap='coolwarm')"
      ],
      "execution_count": 40,
      "outputs": [
        {
          "output_type": "execute_result",
          "data": {
            "text/plain": [
              "<matplotlib.axes._subplots.AxesSubplot at 0x7f30ab983b50>"
            ]
          },
          "metadata": {},
          "execution_count": 40
        },
        {
          "output_type": "display_data",
          "data": {
            "image/png": "[encoded data removed]",
            "text/plain": [
              "<Figure size 720x432 with 2 Axes>"
            ]
          },
          "metadata": {
            "needs_background": "light"
          }
        }
      ]
    },
    {
      "cell_type": "code",
      "metadata": {
        "id": "erCMihIMWYKC"
      },
      "source": [
        "app_size=df[['App','Size','Value','Unit']]"
      ],
      "execution_count": 41,
      "outputs": []
    },
    {
      "cell_type": "code",
      "metadata": {
        "id": "6LVVh-zkWZ5J",
        "colab": {
          "base_uri": "https://localhost:8080/",
          "height": 203
        },
        "outputId": "a782e31b-5088-4e82-dfc2-b849b4a8cd73"
      },
      "source": [
        "app_size.head()\n"
      ],
      "execution_count": 42,
      "outputs": [
        {
          "output_type": "execute_result",
          "data": {
            "text/html": [
              "<div>\n",
              "<style scoped>\n",
              "    .dataframe tbody tr th:only-of-type {\n",
              "        vertical-align: middle;\n",
              "    }\n",
              "\n",
              "    .dataframe tbody tr th {\n",
              "        vertical-align: top;\n",
              "    }\n",
              "\n",
              "    .dataframe thead th {\n",
              "        text-align: right;\n",
              "    }\n",
              "</style>\n",
              "<table border=\"1\" class=\"dataframe\">\n",
              "  <thead>\n",
              "    <tr style=\"text-align: right;\">\n",
              "      <th></th>\n",
              "      <th>App</th>\n",
              "      <th>Size</th>\n",
              "      <th>Value</th>\n",
              "      <th>Unit</th>\n",
              "    </tr>\n",
              "  </thead>\n",
              "  <tbody>\n",
              "    <tr>\n",
              "      <th>0</th>\n",
              "      <td>Photo Editor &amp; Candy Camera &amp; Grid &amp; ScrapBook</td>\n",
              "      <td>19M</td>\n",
              "      <td>19.0</td>\n",
              "      <td>M</td>\n",
              "    </tr>\n",
              "    <tr>\n",
              "      <th>1</th>\n",
              "      <td>Coloring book moana</td>\n",
              "      <td>14M</td>\n",
              "      <td>14.0</td>\n",
              "      <td>M</td>\n",
              "    </tr>\n",
              "    <tr>\n",
              "      <th>2</th>\n",
              "      <td>U Launcher Lite – FREE Live Cool Themes, Hide ...</td>\n",
              "      <td>8.7M</td>\n",
              "      <td>8.7</td>\n",
              "      <td>M</td>\n",
              "    </tr>\n",
              "    <tr>\n",
              "      <th>3</th>\n",
              "      <td>Sketch - Draw &amp; Paint</td>\n",
              "      <td>25M</td>\n",
              "      <td>25.0</td>\n",
              "      <td>M</td>\n",
              "    </tr>\n",
              "    <tr>\n",
              "      <th>4</th>\n",
              "      <td>Pixel Draw - Number Art Coloring Book</td>\n",
              "      <td>2.8M</td>\n",
              "      <td>2.8</td>\n",
              "      <td>M</td>\n",
              "    </tr>\n",
              "  </tbody>\n",
              "</table>\n",
              "</div>"
            ],
            "text/plain": [
              "                                                 App  Size  Value Unit\n",
              "0     Photo Editor & Candy Camera & Grid & ScrapBook   19M   19.0    M\n",
              "1                                Coloring book moana   14M   14.0    M\n",
              "2  U Launcher Lite – FREE Live Cool Themes, Hide ...  8.7M    8.7    M\n",
              "3                              Sketch - Draw & Paint   25M   25.0    M\n",
              "4              Pixel Draw - Number Art Coloring Book  2.8M    2.8    M"
            ]
          },
          "metadata": {},
          "execution_count": 42
        }
      ]
    },
    {
      "cell_type": "code",
      "metadata": {
        "id": "Af6ezuElWjVm",
        "colab": {
          "base_uri": "https://localhost:8080/",
          "height": 350
        },
        "outputId": "a740a409-2fe7-4f23-c028-353c13542484"
      },
      "source": [
        "sns.countplot(app_size['Unit'])"
      ],
      "execution_count": 43,
      "outputs": [
        {
          "output_type": "stream",
          "name": "stderr",
          "text": [
            "/usr/local/lib/python3.7/dist-packages/seaborn/_decorators.py:43: FutureWarning: Pass the following variable as a keyword arg: x. From version 0.12, the only valid positional argument will be `data`, and passing other arguments without an explicit keyword will result in an error or misinterpretation.\n",
            "  FutureWarning\n"
          ]
        },
        {
          "output_type": "execute_result",
          "data": {
            "text/plain": [
              "<matplotlib.axes._subplots.AxesSubplot at 0x7f30a3007fd0>"
            ]
          },
          "metadata": {},
          "execution_count": 43
        },
        {
          "output_type": "display_data",
          "data": {
            "image/png": "[encoded data removed]",
            "text/plain": [
              "<Figure size 432x288 with 1 Axes>"
            ]
          },
          "metadata": {
            "needs_background": "light"
          }
        }
      ]
    },
    {
      "cell_type": "code",
      "metadata": {
        "id": "NxOMiTnhWmBm",
        "colab": {
          "base_uri": "https://localhost:8080/",
          "height": 665
        },
        "outputId": "4b4accb7-1488-46b8-c636-23df8a9fc155"
      },
      "source": [
        "app_size[app_size['Unit']=='M'].sort_values('Value',ascending=False)[['App','Size']].head(20)"
      ],
      "execution_count": 44,
      "outputs": [
        {
          "output_type": "execute_result",
          "data": {
            "text/html": [
              "<div>\n",
              "<style scoped>\n",
              "    .dataframe tbody tr th:only-of-type {\n",
              "        vertical-align: middle;\n",
              "    }\n",
              "\n",
              "    .dataframe tbody tr th {\n",
              "        vertical-align: top;\n",
              "    }\n",
              "\n",
              "    .dataframe thead th {\n",
              "        text-align: right;\n",
              "    }\n",
              "</style>\n",
              "<table border=\"1\" class=\"dataframe\">\n",
              "  <thead>\n",
              "    <tr style=\"text-align: right;\">\n",
              "      <th></th>\n",
              "      <th>App</th>\n",
              "      <th>Size</th>\n",
              "    </tr>\n",
              "  </thead>\n",
              "  <tbody>\n",
              "    <tr>\n",
              "      <th>1793</th>\n",
              "      <td>Mini Golf King - Multiplayer Game</td>\n",
              "      <td>100M</td>\n",
              "    </tr>\n",
              "    <tr>\n",
              "      <th>1565</th>\n",
              "      <td>Talking Babsy Baby: Baby Games</td>\n",
              "      <td>100M</td>\n",
              "    </tr>\n",
              "    <tr>\n",
              "      <th>8409</th>\n",
              "      <td>Car Crash III Beam DH Real Damage Simulator 2018</td>\n",
              "      <td>100M</td>\n",
              "    </tr>\n",
              "    <tr>\n",
              "      <th>9170</th>\n",
              "      <td>Stickman Legends: Shadow Wars</td>\n",
              "      <td>100M</td>\n",
              "    </tr>\n",
              "    <tr>\n",
              "      <th>5865</th>\n",
              "      <td>Gangster Town: Vice District</td>\n",
              "      <td>100M</td>\n",
              "    </tr>\n",
              "    <tr>\n",
              "      <th>1988</th>\n",
              "      <td>Hungry Shark Evolution</td>\n",
              "      <td>100M</td>\n",
              "    </tr>\n",
              "    <tr>\n",
              "      <th>5862</th>\n",
              "      <td>Miami crime simulator</td>\n",
              "      <td>100M</td>\n",
              "    </tr>\n",
              "    <tr>\n",
              "      <th>1080</th>\n",
              "      <td>Post Bank</td>\n",
              "      <td>100M</td>\n",
              "    </tr>\n",
              "    <tr>\n",
              "      <th>5530</th>\n",
              "      <td>The Walking Dead: Our World</td>\n",
              "      <td>100M</td>\n",
              "    </tr>\n",
              "    <tr>\n",
              "      <th>5427</th>\n",
              "      <td>Ultimate Tennis</td>\n",
              "      <td>100M</td>\n",
              "    </tr>\n",
              "    <tr>\n",
              "      <th>8847</th>\n",
              "      <td>Draft Simulator for FUT 18</td>\n",
              "      <td>100M</td>\n",
              "    </tr>\n",
              "    <tr>\n",
              "      <th>4690</th>\n",
              "      <td>Vi Trainer</td>\n",
              "      <td>100M</td>\n",
              "    </tr>\n",
              "    <tr>\n",
              "      <th>1758</th>\n",
              "      <td>Hungry Shark Evolution</td>\n",
              "      <td>100M</td>\n",
              "    </tr>\n",
              "    <tr>\n",
              "      <th>2299</th>\n",
              "      <td>Navi Radiography Pro</td>\n",
              "      <td>100M</td>\n",
              "    </tr>\n",
              "    <tr>\n",
              "      <th>3973</th>\n",
              "      <td>Hungry Shark Evolution</td>\n",
              "      <td>100M</td>\n",
              "    </tr>\n",
              "    <tr>\n",
              "      <th>7404</th>\n",
              "      <td>SimCity BuildIt</td>\n",
              "      <td>100M</td>\n",
              "    </tr>\n",
              "    <tr>\n",
              "      <th>4798</th>\n",
              "      <td>Vegas Crime Simulator</td>\n",
              "      <td>99M</td>\n",
              "    </tr>\n",
              "    <tr>\n",
              "      <th>5641</th>\n",
              "      <td>Five Nights at Freddy's: SL</td>\n",
              "      <td>99M</td>\n",
              "    </tr>\n",
              "    <tr>\n",
              "      <th>9348</th>\n",
              "      <td>LA Stories 4 New Order Sandbox 2018</td>\n",
              "      <td>99M</td>\n",
              "    </tr>\n",
              "    <tr>\n",
              "      <th>9353</th>\n",
              "      <td>L.A. Crime Stories Mad City Crime</td>\n",
              "      <td>99M</td>\n",
              "    </tr>\n",
              "  </tbody>\n",
              "</table>\n",
              "</div>"
            ],
            "text/plain": [
              "                                                   App  Size\n",
              "1793                 Mini Golf King - Multiplayer Game  100M\n",
              "1565                    Talking Babsy Baby: Baby Games  100M\n",
              "8409  Car Crash III Beam DH Real Damage Simulator 2018  100M\n",
              "9170                     Stickman Legends: Shadow Wars  100M\n",
              "5865                      Gangster Town: Vice District  100M\n",
              "1988                            Hungry Shark Evolution  100M\n",
              "5862                             Miami crime simulator  100M\n",
              "1080                                         Post Bank  100M\n",
              "5530                       The Walking Dead: Our World  100M\n",
              "5427                                   Ultimate Tennis  100M\n",
              "8847                        Draft Simulator for FUT 18  100M\n",
              "4690                                        Vi Trainer  100M\n",
              "1758                            Hungry Shark Evolution  100M\n",
              "2299                              Navi Radiography Pro  100M\n",
              "3973                            Hungry Shark Evolution  100M\n",
              "7404                                   SimCity BuildIt  100M\n",
              "4798                             Vegas Crime Simulator   99M\n",
              "5641                       Five Nights at Freddy's: SL   99M\n",
              "9348               LA Stories 4 New Order Sandbox 2018   99M\n",
              "9353                 L.A. Crime Stories Mad City Crime   99M"
            ]
          },
          "metadata": {},
          "execution_count": 44
        }
      ]
    },
    {
      "cell_type": "code",
      "metadata": {
        "id": "3SdYoqevWouj"
      },
      "source": [
        "app_inst=df[['App','Installs']]"
      ],
      "execution_count": 45,
      "outputs": []
    },
    {
      "cell_type": "code",
      "metadata": {
        "id": "Lb4Ei5zTWq9H",
        "colab": {
          "base_uri": "https://localhost:8080/",
          "height": 203
        },
        "outputId": "e0d2f880-6ecd-4f49-9d05-d1e8a73aec60"
      },
      "source": [
        "app_inst.head()"
      ],
      "execution_count": 46,
      "outputs": [
        {
          "output_type": "execute_result",
          "data": {
            "text/html": [
              "<div>\n",
              "<style scoped>\n",
              "    .dataframe tbody tr th:only-of-type {\n",
              "        vertical-align: middle;\n",
              "    }\n",
              "\n",
              "    .dataframe tbody tr th {\n",
              "        vertical-align: top;\n",
              "    }\n",
              "\n",
              "    .dataframe thead th {\n",
              "        text-align: right;\n",
              "    }\n",
              "</style>\n",
              "<table border=\"1\" class=\"dataframe\">\n",
              "  <thead>\n",
              "    <tr style=\"text-align: right;\">\n",
              "      <th></th>\n",
              "      <th>App</th>\n",
              "      <th>Installs</th>\n",
              "    </tr>\n",
              "  </thead>\n",
              "  <tbody>\n",
              "    <tr>\n",
              "      <th>0</th>\n",
              "      <td>Photo Editor &amp; Candy Camera &amp; Grid &amp; ScrapBook</td>\n",
              "      <td>10000</td>\n",
              "    </tr>\n",
              "    <tr>\n",
              "      <th>1</th>\n",
              "      <td>Coloring book moana</td>\n",
              "      <td>500000</td>\n",
              "    </tr>\n",
              "    <tr>\n",
              "      <th>2</th>\n",
              "      <td>U Launcher Lite – FREE Live Cool Themes, Hide ...</td>\n",
              "      <td>5000000</td>\n",
              "    </tr>\n",
              "    <tr>\n",
              "      <th>3</th>\n",
              "      <td>Sketch - Draw &amp; Paint</td>\n",
              "      <td>50000000</td>\n",
              "    </tr>\n",
              "    <tr>\n",
              "      <th>4</th>\n",
              "      <td>Pixel Draw - Number Art Coloring Book</td>\n",
              "      <td>100000</td>\n",
              "    </tr>\n",
              "  </tbody>\n",
              "</table>\n",
              "</div>"
            ],
            "text/plain": [
              "                                                 App  Installs\n",
              "0     Photo Editor & Candy Camera & Grid & ScrapBook     10000\n",
              "1                                Coloring book moana    500000\n",
              "2  U Launcher Lite – FREE Live Cool Themes, Hide ...   5000000\n",
              "3                              Sketch - Draw & Paint  50000000\n",
              "4              Pixel Draw - Number Art Coloring Book    100000"
            ]
          },
          "metadata": {},
          "execution_count": 46
        }
      ]
    },
    {
      "cell_type": "code",
      "metadata": {
        "id": "QXx8B9jkWuZK",
        "colab": {
          "base_uri": "https://localhost:8080/",
          "height": 357
        },
        "outputId": "ae38b058-b968-4976-f18c-6e8bdafea86a"
      },
      "source": [
        "app_inst.sort_values('Installs',ascending=False).head(10)"
      ],
      "execution_count": 47,
      "outputs": [
        {
          "output_type": "execute_result",
          "data": {
            "text/html": [
              "<div>\n",
              "<style scoped>\n",
              "    .dataframe tbody tr th:only-of-type {\n",
              "        vertical-align: middle;\n",
              "    }\n",
              "\n",
              "    .dataframe tbody tr th {\n",
              "        vertical-align: top;\n",
              "    }\n",
              "\n",
              "    .dataframe thead th {\n",
              "        text-align: right;\n",
              "    }\n",
              "</style>\n",
              "<table border=\"1\" class=\"dataframe\">\n",
              "  <thead>\n",
              "    <tr style=\"text-align: right;\">\n",
              "      <th></th>\n",
              "      <th>App</th>\n",
              "      <th>Installs</th>\n",
              "    </tr>\n",
              "  </thead>\n",
              "  <tbody>\n",
              "    <tr>\n",
              "      <th>3896</th>\n",
              "      <td>Subway Surfers</td>\n",
              "      <td>1000000000</td>\n",
              "    </tr>\n",
              "    <tr>\n",
              "      <th>3943</th>\n",
              "      <td>Facebook</td>\n",
              "      <td>1000000000</td>\n",
              "    </tr>\n",
              "    <tr>\n",
              "      <th>335</th>\n",
              "      <td>Messenger – Text and Video Chat for Free</td>\n",
              "      <td>1000000000</td>\n",
              "    </tr>\n",
              "    <tr>\n",
              "      <th>3523</th>\n",
              "      <td>Google Drive</td>\n",
              "      <td>1000000000</td>\n",
              "    </tr>\n",
              "    <tr>\n",
              "      <th>3565</th>\n",
              "      <td>Google Drive</td>\n",
              "      <td>1000000000</td>\n",
              "    </tr>\n",
              "    <tr>\n",
              "      <th>2884</th>\n",
              "      <td>Google Photos</td>\n",
              "      <td>1000000000</td>\n",
              "    </tr>\n",
              "    <tr>\n",
              "      <th>3665</th>\n",
              "      <td>YouTube</td>\n",
              "      <td>1000000000</td>\n",
              "    </tr>\n",
              "    <tr>\n",
              "      <th>2853</th>\n",
              "      <td>Google Photos</td>\n",
              "      <td>1000000000</td>\n",
              "    </tr>\n",
              "    <tr>\n",
              "      <th>4234</th>\n",
              "      <td>Skype - free IM &amp; video calls</td>\n",
              "      <td>1000000000</td>\n",
              "    </tr>\n",
              "    <tr>\n",
              "      <th>3687</th>\n",
              "      <td>Google Play Movies &amp; TV</td>\n",
              "      <td>1000000000</td>\n",
              "    </tr>\n",
              "  </tbody>\n",
              "</table>\n",
              "</div>"
            ],
            "text/plain": [
              "                                           App    Installs\n",
              "3896                            Subway Surfers  1000000000\n",
              "3943                                  Facebook  1000000000\n",
              "335   Messenger – Text and Video Chat for Free  1000000000\n",
              "3523                              Google Drive  1000000000\n",
              "3565                              Google Drive  1000000000\n",
              "2884                             Google Photos  1000000000\n",
              "3665                                   YouTube  1000000000\n",
              "2853                             Google Photos  1000000000\n",
              "4234             Skype - free IM & video calls  1000000000\n",
              "3687                   Google Play Movies & TV  1000000000"
            ]
          },
          "metadata": {},
          "execution_count": 47
        }
      ]
    },
    {
      "cell_type": "code",
      "metadata": {
        "id": "iEIpdVAkWwu_"
      },
      "source": [
        "app_rev=df[['App','Reviews']]"
      ],
      "execution_count": 48,
      "outputs": []
    },
    {
      "cell_type": "code",
      "metadata": {
        "id": "DGRHZpK3WzJn",
        "colab": {
          "base_uri": "https://localhost:8080/",
          "height": 357
        },
        "outputId": "9d5a2d31-1cda-4025-fe8c-f7f3fe87a7b6"
      },
      "source": [
        "app_rev.sort_values('Reviews',ascending=False).head(10)"
      ],
      "execution_count": 49,
      "outputs": [
        {
          "output_type": "execute_result",
          "data": {
            "text/html": [
              "<div>\n",
              "<style scoped>\n",
              "    .dataframe tbody tr th:only-of-type {\n",
              "        vertical-align: middle;\n",
              "    }\n",
              "\n",
              "    .dataframe tbody tr th {\n",
              "        vertical-align: top;\n",
              "    }\n",
              "\n",
              "    .dataframe thead th {\n",
              "        text-align: right;\n",
              "    }\n",
              "</style>\n",
              "<table border=\"1\" class=\"dataframe\">\n",
              "  <thead>\n",
              "    <tr style=\"text-align: right;\">\n",
              "      <th></th>\n",
              "      <th>App</th>\n",
              "      <th>Reviews</th>\n",
              "    </tr>\n",
              "  </thead>\n",
              "  <tbody>\n",
              "    <tr>\n",
              "      <th>2544</th>\n",
              "      <td>Facebook</td>\n",
              "      <td>78158306</td>\n",
              "    </tr>\n",
              "    <tr>\n",
              "      <th>3943</th>\n",
              "      <td>Facebook</td>\n",
              "      <td>78128208</td>\n",
              "    </tr>\n",
              "    <tr>\n",
              "      <th>381</th>\n",
              "      <td>WhatsApp Messenger</td>\n",
              "      <td>69119316</td>\n",
              "    </tr>\n",
              "    <tr>\n",
              "      <th>336</th>\n",
              "      <td>WhatsApp Messenger</td>\n",
              "      <td>69119316</td>\n",
              "    </tr>\n",
              "    <tr>\n",
              "      <th>3904</th>\n",
              "      <td>WhatsApp Messenger</td>\n",
              "      <td>69109672</td>\n",
              "    </tr>\n",
              "    <tr>\n",
              "      <th>2604</th>\n",
              "      <td>Instagram</td>\n",
              "      <td>66577446</td>\n",
              "    </tr>\n",
              "    <tr>\n",
              "      <th>2611</th>\n",
              "      <td>Instagram</td>\n",
              "      <td>66577313</td>\n",
              "    </tr>\n",
              "    <tr>\n",
              "      <th>2545</th>\n",
              "      <td>Instagram</td>\n",
              "      <td>66577313</td>\n",
              "    </tr>\n",
              "    <tr>\n",
              "      <th>3909</th>\n",
              "      <td>Instagram</td>\n",
              "      <td>66509917</td>\n",
              "    </tr>\n",
              "    <tr>\n",
              "      <th>382</th>\n",
              "      <td>Messenger – Text and Video Chat for Free</td>\n",
              "      <td>56646578</td>\n",
              "    </tr>\n",
              "  </tbody>\n",
              "</table>\n",
              "</div>"
            ],
            "text/plain": [
              "                                           App   Reviews\n",
              "2544                                  Facebook  78158306\n",
              "3943                                  Facebook  78128208\n",
              "381                         WhatsApp Messenger  69119316\n",
              "336                         WhatsApp Messenger  69119316\n",
              "3904                        WhatsApp Messenger  69109672\n",
              "2604                                 Instagram  66577446\n",
              "2611                                 Instagram  66577313\n",
              "2545                                 Instagram  66577313\n",
              "3909                                 Instagram  66509917\n",
              "382   Messenger – Text and Video Chat for Free  56646578"
            ]
          },
          "metadata": {},
          "execution_count": 49
        }
      ]
    },
    {
      "cell_type": "code",
      "metadata": {
        "id": "T0TNyr-SW2Sf"
      },
      "source": [
        "app_grp=df.groupby('Category')"
      ],
      "execution_count": 50,
      "outputs": []
    },
    {
      "cell_type": "code",
      "metadata": {
        "id": "LYRsE4ELW4oh"
      },
      "source": [
        "grp=app_grp.mean()\n",
        "grp['Count']=app_grp['App'].count()"
      ],
      "execution_count": 51,
      "outputs": []
    },
    {
      "cell_type": "code",
      "metadata": {
        "id": "S5gJOfRAW6w1",
        "colab": {
          "base_uri": "https://localhost:8080/",
          "height": 234
        },
        "outputId": "b2bedffa-e3a0-4a9d-8b67-c34a1fcc959d"
      },
      "source": [
        "grp.sort_values(['Reviews','Rating'],ascending=False).head()"
      ],
      "execution_count": 52,
      "outputs": [
        {
          "output_type": "execute_result",
          "data": {
            "text/html": [
              "<div>\n",
              "<style scoped>\n",
              "    .dataframe tbody tr th:only-of-type {\n",
              "        vertical-align: middle;\n",
              "    }\n",
              "\n",
              "    .dataframe tbody tr th {\n",
              "        vertical-align: top;\n",
              "    }\n",
              "\n",
              "    .dataframe thead th {\n",
              "        text-align: right;\n",
              "    }\n",
              "</style>\n",
              "<table border=\"1\" class=\"dataframe\">\n",
              "  <thead>\n",
              "    <tr style=\"text-align: right;\">\n",
              "      <th></th>\n",
              "      <th>Rating</th>\n",
              "      <th>Reviews</th>\n",
              "      <th>Installs</th>\n",
              "      <th>Price</th>\n",
              "      <th>Value</th>\n",
              "      <th>Count</th>\n",
              "    </tr>\n",
              "    <tr>\n",
              "      <th>Category</th>\n",
              "      <th></th>\n",
              "      <th></th>\n",
              "      <th></th>\n",
              "      <th></th>\n",
              "      <th></th>\n",
              "      <th></th>\n",
              "    </tr>\n",
              "  </thead>\n",
              "  <tbody>\n",
              "    <tr>\n",
              "      <th>COMMUNICATION</th>\n",
              "      <td>4.180103</td>\n",
              "      <td>2.107138e+06</td>\n",
              "      <td>8.435989e+07</td>\n",
              "      <td>0.214832</td>\n",
              "      <td>38.200258</td>\n",
              "      <td>387</td>\n",
              "    </tr>\n",
              "    <tr>\n",
              "      <th>SOCIAL</th>\n",
              "      <td>4.261017</td>\n",
              "      <td>2.105903e+06</td>\n",
              "      <td>4.769447e+07</td>\n",
              "      <td>0.054136</td>\n",
              "      <td>18.658983</td>\n",
              "      <td>295</td>\n",
              "    </tr>\n",
              "    <tr>\n",
              "      <th>GAME</th>\n",
              "      <td>4.295105</td>\n",
              "      <td>1.385859e+06</td>\n",
              "      <td>3.066960e+07</td>\n",
              "      <td>0.251136</td>\n",
              "      <td>40.633042</td>\n",
              "      <td>1144</td>\n",
              "    </tr>\n",
              "    <tr>\n",
              "      <th>PHOTOGRAPHY</th>\n",
              "      <td>4.197910</td>\n",
              "      <td>6.373631e+05</td>\n",
              "      <td>3.011417e+07</td>\n",
              "      <td>0.400627</td>\n",
              "      <td>16.111642</td>\n",
              "      <td>335</td>\n",
              "    </tr>\n",
              "    <tr>\n",
              "      <th>VIDEO_PLAYERS</th>\n",
              "      <td>4.084000</td>\n",
              "      <td>6.307439e+05</td>\n",
              "      <td>3.555430e+07</td>\n",
              "      <td>0.059771</td>\n",
              "      <td>16.493143</td>\n",
              "      <td>175</td>\n",
              "    </tr>\n",
              "  </tbody>\n",
              "</table>\n",
              "</div>"
            ],
            "text/plain": [
              "                 Rating       Reviews      Installs     Price      Value  Count\n",
              "Category                                                                       \n",
              "COMMUNICATION  4.180103  2.107138e+06  8.435989e+07  0.214832  38.200258    387\n",
              "SOCIAL         4.261017  2.105903e+06  4.769447e+07  0.054136  18.658983    295\n",
              "GAME           4.295105  1.385859e+06  3.066960e+07  0.251136  40.633042   1144\n",
              "PHOTOGRAPHY    4.197910  6.373631e+05  3.011417e+07  0.400627  16.111642    335\n",
              "VIDEO_PLAYERS  4.084000  6.307439e+05  3.555430e+07  0.059771  16.493143    175"
            ]
          },
          "metadata": {},
          "execution_count": 52
        }
      ]
    },
    {
      "cell_type": "code",
      "metadata": {
        "id": "sUp5yyKbW8vc",
        "colab": {
          "base_uri": "https://localhost:8080/",
          "height": 234
        },
        "outputId": "68fab9c1-e4d5-420b-a3a7-0109318501d2"
      },
      "source": [
        "grp.sort_values(['Count'],ascending=False).head()"
      ],
      "execution_count": 53,
      "outputs": [
        {
          "output_type": "execute_result",
          "data": {
            "text/html": [
              "<div>\n",
              "<style scoped>\n",
              "    .dataframe tbody tr th:only-of-type {\n",
              "        vertical-align: middle;\n",
              "    }\n",
              "\n",
              "    .dataframe tbody tr th {\n",
              "        vertical-align: top;\n",
              "    }\n",
              "\n",
              "    .dataframe thead th {\n",
              "        text-align: right;\n",
              "    }\n",
              "</style>\n",
              "<table border=\"1\" class=\"dataframe\">\n",
              "  <thead>\n",
              "    <tr style=\"text-align: right;\">\n",
              "      <th></th>\n",
              "      <th>Rating</th>\n",
              "      <th>Reviews</th>\n",
              "      <th>Installs</th>\n",
              "      <th>Price</th>\n",
              "      <th>Value</th>\n",
              "      <th>Count</th>\n",
              "    </tr>\n",
              "    <tr>\n",
              "      <th>Category</th>\n",
              "      <th></th>\n",
              "      <th></th>\n",
              "      <th></th>\n",
              "      <th></th>\n",
              "      <th></th>\n",
              "      <th></th>\n",
              "    </tr>\n",
              "  </thead>\n",
              "  <tbody>\n",
              "    <tr>\n",
              "      <th>FAMILY</th>\n",
              "      <td>4.204564</td>\n",
              "      <td>2.080255e+05</td>\n",
              "      <td>5.201959e+06</td>\n",
              "      <td>1.234675</td>\n",
              "      <td>35.309381</td>\n",
              "      <td>1972</td>\n",
              "    </tr>\n",
              "    <tr>\n",
              "      <th>GAME</th>\n",
              "      <td>4.295105</td>\n",
              "      <td>1.385859e+06</td>\n",
              "      <td>3.066960e+07</td>\n",
              "      <td>0.251136</td>\n",
              "      <td>40.633042</td>\n",
              "      <td>1144</td>\n",
              "    </tr>\n",
              "    <tr>\n",
              "      <th>TOOLS</th>\n",
              "      <td>4.067141</td>\n",
              "      <td>3.240629e+05</td>\n",
              "      <td>1.358573e+07</td>\n",
              "      <td>0.317023</td>\n",
              "      <td>41.882681</td>\n",
              "      <td>843</td>\n",
              "    </tr>\n",
              "    <tr>\n",
              "      <th>MEDICAL</th>\n",
              "      <td>4.265011</td>\n",
              "      <td>3.425432e+03</td>\n",
              "      <td>1.150269e+05</td>\n",
              "      <td>3.110065</td>\n",
              "      <td>41.708855</td>\n",
              "      <td>463</td>\n",
              "    </tr>\n",
              "    <tr>\n",
              "      <th>BUSINESS</th>\n",
              "      <td>4.216522</td>\n",
              "      <td>3.033598e+04</td>\n",
              "      <td>2.178076e+06</td>\n",
              "      <td>0.402761</td>\n",
              "      <td>23.150000</td>\n",
              "      <td>460</td>\n",
              "    </tr>\n",
              "  </tbody>\n",
              "</table>\n",
              "</div>"
            ],
            "text/plain": [
              "            Rating       Reviews      Installs     Price      Value  Count\n",
              "Category                                                                  \n",
              "FAMILY    4.204564  2.080255e+05  5.201959e+06  1.234675  35.309381   1972\n",
              "GAME      4.295105  1.385859e+06  3.066960e+07  0.251136  40.633042   1144\n",
              "TOOLS     4.067141  3.240629e+05  1.358573e+07  0.317023  41.882681    843\n",
              "MEDICAL   4.265011  3.425432e+03  1.150269e+05  3.110065  41.708855    463\n",
              "BUSINESS  4.216522  3.033598e+04  2.178076e+06  0.402761  23.150000    460"
            ]
          },
          "metadata": {},
          "execution_count": 53
        }
      ]
    },
    {
      "cell_type": "code",
      "metadata": {
        "id": "mgyCKAXNW-82",
        "colab": {
          "base_uri": "https://localhost:8080/",
          "height": 351
        },
        "outputId": "edff410a-4efb-447b-bbc8-6891d721814d"
      },
      "source": [
        "plt.figure(figsize=(10, 5))\n",
        "sns.countplot(x=\"Type\", data=df)"
      ],
      "execution_count": 54,
      "outputs": [
        {
          "output_type": "execute_result",
          "data": {
            "text/plain": [
              "<matplotlib.axes._subplots.AxesSubplot at 0x7f30a2fdc790>"
            ]
          },
          "metadata": {},
          "execution_count": 54
        },
        {
          "output_type": "display_data",
          "data": {
            "image/png": "[encoded data removed]",
            "text/plain": [
              "<Figure size 720x360 with 1 Axes>"
            ]
          },
          "metadata": {
            "needs_background": "light"
          }
        }
      ]
    },
    {
      "cell_type": "code",
      "metadata": {
        "id": "P90OmiMJXBuz",
        "colab": {
          "base_uri": "https://localhost:8080/",
          "height": 459
        },
        "outputId": "f3e6d3b0-a89e-4b10-bf68-f6569ce2ec65"
      },
      "source": [
        "plt.figure(figsize=(15,7))\n",
        "sns.histplot(x='Rating',hue='Type',data=df,kde=True)"
      ],
      "execution_count": 55,
      "outputs": [
        {
          "output_type": "execute_result",
          "data": {
            "text/plain": [
              "<matplotlib.axes._subplots.AxesSubplot at 0x7f30a2f2cb90>"
            ]
          },
          "metadata": {},
          "execution_count": 55
        },
        {
          "output_type": "display_data",
          "data": {
            "image/png": "[encoded data removed]",
            "text/plain": [
              "<Figure size 1080x504 with 1 Axes>"
            ]
          },
          "metadata": {
            "needs_background": "light"
          }
        }
      ]
    },
    {
      "cell_type": "code",
      "metadata": {
        "id": "2ULaMeZgXDl5",
        "colab": {
          "base_uri": "https://localhost:8080/",
          "height": 142
        },
        "outputId": "7c5de964-b61a-44b6-e9da-56169ee6a3b8"
      },
      "source": [
        "type_grp=df.groupby('Type')\n",
        "type_grp=type_grp.mean()\n",
        "type_grp['Count']=df.groupby('Type')['App'].count()\n",
        "type_grp"
      ],
      "execution_count": 56,
      "outputs": [
        {
          "output_type": "execute_result",
          "data": {
            "text/html": [
              "<div>\n",
              "<style scoped>\n",
              "    .dataframe tbody tr th:only-of-type {\n",
              "        vertical-align: middle;\n",
              "    }\n",
              "\n",
              "    .dataframe tbody tr th {\n",
              "        vertical-align: top;\n",
              "    }\n",
              "\n",
              "    .dataframe thead th {\n",
              "        text-align: right;\n",
              "    }\n",
              "</style>\n",
              "<table border=\"1\" class=\"dataframe\">\n",
              "  <thead>\n",
              "    <tr style=\"text-align: right;\">\n",
              "      <th></th>\n",
              "      <th>Rating</th>\n",
              "      <th>Reviews</th>\n",
              "      <th>Installs</th>\n",
              "      <th>Price</th>\n",
              "      <th>Value</th>\n",
              "      <th>Count</th>\n",
              "    </tr>\n",
              "    <tr>\n",
              "      <th>Type</th>\n",
              "      <th></th>\n",
              "      <th></th>\n",
              "      <th></th>\n",
              "      <th></th>\n",
              "      <th></th>\n",
              "      <th></th>\n",
              "    </tr>\n",
              "  </thead>\n",
              "  <tbody>\n",
              "    <tr>\n",
              "      <th>Free</th>\n",
              "      <td>4.214779</td>\n",
              "      <td>478565.756598</td>\n",
              "      <td>1.668763e+07</td>\n",
              "      <td>0.000000</td>\n",
              "      <td>29.492889</td>\n",
              "      <td>10041</td>\n",
              "    </tr>\n",
              "    <tr>\n",
              "      <th>Paid</th>\n",
              "      <td>4.291625</td>\n",
              "      <td>11673.312500</td>\n",
              "      <td>9.119510e+04</td>\n",
              "      <td>13.920837</td>\n",
              "      <td>53.192500</td>\n",
              "      <td>800</td>\n",
              "    </tr>\n",
              "  </tbody>\n",
              "</table>\n",
              "</div>"
            ],
            "text/plain": [
              "        Rating        Reviews      Installs      Price      Value  Count\n",
              "Type                                                                    \n",
              "Free  4.214779  478565.756598  1.668763e+07   0.000000  29.492889  10041\n",
              "Paid  4.291625   11673.312500  9.119510e+04  13.920837  53.192500    800"
            ]
          },
          "metadata": {},
          "execution_count": 56
        }
      ]
    },
    {
      "cell_type": "code",
      "metadata": {
        "id": "MngkoPKNXFle",
        "colab": {
          "base_uri": "https://localhost:8080/",
          "height": 351
        },
        "outputId": "06a9ec35-c42a-449d-85d3-2026a6063a41"
      },
      "source": [
        "plt.figure(figsize=(10,5))\n",
        "sns.barplot(x=type_grp.index,y='Rating',data=type_grp)"
      ],
      "execution_count": 57,
      "outputs": [
        {
          "output_type": "execute_result",
          "data": {
            "text/plain": [
              "<matplotlib.axes._subplots.AxesSubplot at 0x7f30a0c3db90>"
            ]
          },
          "metadata": {},
          "execution_count": 57
        },
        {
          "output_type": "display_data",
          "data": {
            "image/png": "[encoded data removed]",
            "text/plain": [
              "<Figure size 720x360 with 1 Axes>"
            ]
          },
          "metadata": {
            "needs_background": "light"
          }
        }
      ]
    },
    {
      "cell_type": "code",
      "metadata": {
        "id": "SpLIuXO2XIPp",
        "colab": {
          "base_uri": "https://localhost:8080/",
          "height": 417
        },
        "outputId": "7202a780-44ba-4c43-a356-4a836fa2c13c"
      },
      "source": [
        "app_year=df[['App','Installs','Reviews','Rating','Last Updated']]\n",
        "app_year"
      ],
      "execution_count": 58,
      "outputs": [
        {
          "output_type": "execute_result",
          "data": {
            "text/html": [
              "<div>\n",
              "<style scoped>\n",
              "    .dataframe tbody tr th:only-of-type {\n",
              "        vertical-align: middle;\n",
              "    }\n",
              "\n",
              "    .dataframe tbody tr th {\n",
              "        vertical-align: top;\n",
              "    }\n",
              "\n",
              "    .dataframe thead th {\n",
              "        text-align: right;\n",
              "    }\n",
              "</style>\n",
              "<table border=\"1\" class=\"dataframe\">\n",
              "  <thead>\n",
              "    <tr style=\"text-align: right;\">\n",
              "      <th></th>\n",
              "      <th>App</th>\n",
              "      <th>Installs</th>\n",
              "      <th>Reviews</th>\n",
              "      <th>Rating</th>\n",
              "      <th>Last Updated</th>\n",
              "    </tr>\n",
              "  </thead>\n",
              "  <tbody>\n",
              "    <tr>\n",
              "      <th>0</th>\n",
              "      <td>Photo Editor &amp; Candy Camera &amp; Grid &amp; ScrapBook</td>\n",
              "      <td>10000</td>\n",
              "      <td>159</td>\n",
              "      <td>4.1</td>\n",
              "      <td>January 7, 2018</td>\n",
              "    </tr>\n",
              "    <tr>\n",
              "      <th>1</th>\n",
              "      <td>Coloring book moana</td>\n",
              "      <td>500000</td>\n",
              "      <td>967</td>\n",
              "      <td>3.9</td>\n",
              "      <td>January 15, 2018</td>\n",
              "    </tr>\n",
              "    <tr>\n",
              "      <th>2</th>\n",
              "      <td>U Launcher Lite – FREE Live Cool Themes, Hide ...</td>\n",
              "      <td>5000000</td>\n",
              "      <td>87510</td>\n",
              "      <td>4.7</td>\n",
              "      <td>August 1, 2018</td>\n",
              "    </tr>\n",
              "    <tr>\n",
              "      <th>3</th>\n",
              "      <td>Sketch - Draw &amp; Paint</td>\n",
              "      <td>50000000</td>\n",
              "      <td>215644</td>\n",
              "      <td>4.5</td>\n",
              "      <td>June 8, 2018</td>\n",
              "    </tr>\n",
              "    <tr>\n",
              "      <th>4</th>\n",
              "      <td>Pixel Draw - Number Art Coloring Book</td>\n",
              "      <td>100000</td>\n",
              "      <td>967</td>\n",
              "      <td>4.3</td>\n",
              "      <td>June 20, 2018</td>\n",
              "    </tr>\n",
              "    <tr>\n",
              "      <th>...</th>\n",
              "      <td>...</td>\n",
              "      <td>...</td>\n",
              "      <td>...</td>\n",
              "      <td>...</td>\n",
              "      <td>...</td>\n",
              "    </tr>\n",
              "    <tr>\n",
              "      <th>10836</th>\n",
              "      <td>Sya9a Maroc - FR</td>\n",
              "      <td>5000</td>\n",
              "      <td>38</td>\n",
              "      <td>4.5</td>\n",
              "      <td>July 25, 2017</td>\n",
              "    </tr>\n",
              "    <tr>\n",
              "      <th>10837</th>\n",
              "      <td>Fr. Mike Schmitz Audio Teachings</td>\n",
              "      <td>100</td>\n",
              "      <td>4</td>\n",
              "      <td>5.0</td>\n",
              "      <td>July 6, 2018</td>\n",
              "    </tr>\n",
              "    <tr>\n",
              "      <th>10838</th>\n",
              "      <td>Parkinson Exercices FR</td>\n",
              "      <td>1000</td>\n",
              "      <td>3</td>\n",
              "      <td>4.5</td>\n",
              "      <td>January 20, 2017</td>\n",
              "    </tr>\n",
              "    <tr>\n",
              "      <th>10839</th>\n",
              "      <td>The SCP Foundation DB fr nn5n</td>\n",
              "      <td>1000</td>\n",
              "      <td>114</td>\n",
              "      <td>4.5</td>\n",
              "      <td>January 19, 2015</td>\n",
              "    </tr>\n",
              "    <tr>\n",
              "      <th>10840</th>\n",
              "      <td>iHoroscope - 2018 Daily Horoscope &amp; Astrology</td>\n",
              "      <td>10000000</td>\n",
              "      <td>398307</td>\n",
              "      <td>4.5</td>\n",
              "      <td>July 25, 2018</td>\n",
              "    </tr>\n",
              "  </tbody>\n",
              "</table>\n",
              "<p>10841 rows × 5 columns</p>\n",
              "</div>"
            ],
            "text/plain": [
              "                                                     App  ...      Last Updated\n",
              "0         Photo Editor & Candy Camera & Grid & ScrapBook  ...   January 7, 2018\n",
              "1                                    Coloring book moana  ...  January 15, 2018\n",
              "2      U Launcher Lite – FREE Live Cool Themes, Hide ...  ...    August 1, 2018\n",
              "3                                  Sketch - Draw & Paint  ...      June 8, 2018\n",
              "4                  Pixel Draw - Number Art Coloring Book  ...     June 20, 2018\n",
              "...                                                  ...  ...               ...\n",
              "10836                                   Sya9a Maroc - FR  ...     July 25, 2017\n",
              "10837                   Fr. Mike Schmitz Audio Teachings  ...      July 6, 2018\n",
              "10838                             Parkinson Exercices FR  ...  January 20, 2017\n",
              "10839                      The SCP Foundation DB fr nn5n  ...  January 19, 2015\n",
              "10840      iHoroscope - 2018 Daily Horoscope & Astrology  ...     July 25, 2018\n",
              "\n",
              "[10841 rows x 5 columns]"
            ]
          },
          "metadata": {},
          "execution_count": 58
        }
      ]
    },
    {
      "cell_type": "code",
      "metadata": {
        "id": "3UXsg6nAXKtc",
        "colab": {
          "base_uri": "https://localhost:8080/",
          "height": 405
        },
        "outputId": "b26cd65e-4aff-4123-c869-dc493c770d0d"
      },
      "source": [
        "app_year['Year']=app_year['Last Updated'].apply(lambda a : a[-4:])\n",
        "app_year['Year']=app_year['Year'].astype(int)\n",
        "app_year.head()"
      ],
      "execution_count": 59,
      "outputs": [
        {
          "output_type": "stream",
          "name": "stderr",
          "text": [
            "/usr/local/lib/python3.7/dist-packages/ipykernel_launcher.py:1: SettingWithCopyWarning: \n",
            "A value is trying to be set on a copy of a slice from a DataFrame.\n",
            "Try using .loc[row_indexer,col_indexer] = value instead\n",
            "\n",
            "See the caveats in the documentation: https://pandas.pydata.org/pandas-docs/stable/user_guide/indexing.html#returning-a-view-versus-a-copy\n",
            "  \"\"\"Entry point for launching an IPython kernel.\n",
            "/usr/local/lib/python3.7/dist-packages/ipykernel_launcher.py:2: SettingWithCopyWarning: \n",
            "A value is trying to be set on a copy of a slice from a DataFrame.\n",
            "Try using .loc[row_indexer,col_indexer] = value instead\n",
            "\n",
            "See the caveats in the documentation: https://pandas.pydata.org/pandas-docs/stable/user_guide/indexing.html#returning-a-view-versus-a-copy\n",
            "  \n"
          ]
        },
        {
          "output_type": "execute_result",
          "data": {
            "text/html": [
              "<div>\n",
              "<style scoped>\n",
              "    .dataframe tbody tr th:only-of-type {\n",
              "        vertical-align: middle;\n",
              "    }\n",
              "\n",
              "    .dataframe tbody tr th {\n",
              "        vertical-align: top;\n",
              "    }\n",
              "\n",
              "    .dataframe thead th {\n",
              "        text-align: right;\n",
              "    }\n",
              "</style>\n",
              "<table border=\"1\" class=\"dataframe\">\n",
              "  <thead>\n",
              "    <tr style=\"text-align: right;\">\n",
              "      <th></th>\n",
              "      <th>App</th>\n",
              "      <th>Installs</th>\n",
              "      <th>Reviews</th>\n",
              "      <th>Rating</th>\n",
              "      <th>Last Updated</th>\n",
              "      <th>Year</th>\n",
              "    </tr>\n",
              "  </thead>\n",
              "  <tbody>\n",
              "    <tr>\n",
              "      <th>0</th>\n",
              "      <td>Photo Editor &amp; Candy Camera &amp; Grid &amp; ScrapBook</td>\n",
              "      <td>10000</td>\n",
              "      <td>159</td>\n",
              "      <td>4.1</td>\n",
              "      <td>January 7, 2018</td>\n",
              "      <td>2018</td>\n",
              "    </tr>\n",
              "    <tr>\n",
              "      <th>1</th>\n",
              "      <td>Coloring book moana</td>\n",
              "      <td>500000</td>\n",
              "      <td>967</td>\n",
              "      <td>3.9</td>\n",
              "      <td>January 15, 2018</td>\n",
              "      <td>2018</td>\n",
              "    </tr>\n",
              "    <tr>\n",
              "      <th>2</th>\n",
              "      <td>U Launcher Lite – FREE Live Cool Themes, Hide ...</td>\n",
              "      <td>5000000</td>\n",
              "      <td>87510</td>\n",
              "      <td>4.7</td>\n",
              "      <td>August 1, 2018</td>\n",
              "      <td>2018</td>\n",
              "    </tr>\n",
              "    <tr>\n",
              "      <th>3</th>\n",
              "      <td>Sketch - Draw &amp; Paint</td>\n",
              "      <td>50000000</td>\n",
              "      <td>215644</td>\n",
              "      <td>4.5</td>\n",
              "      <td>June 8, 2018</td>\n",
              "      <td>2018</td>\n",
              "    </tr>\n",
              "    <tr>\n",
              "      <th>4</th>\n",
              "      <td>Pixel Draw - Number Art Coloring Book</td>\n",
              "      <td>100000</td>\n",
              "      <td>967</td>\n",
              "      <td>4.3</td>\n",
              "      <td>June 20, 2018</td>\n",
              "      <td>2018</td>\n",
              "    </tr>\n",
              "  </tbody>\n",
              "</table>\n",
              "</div>"
            ],
            "text/plain": [
              "                                                 App  ...  Year\n",
              "0     Photo Editor & Candy Camera & Grid & ScrapBook  ...  2018\n",
              "1                                Coloring book moana  ...  2018\n",
              "2  U Launcher Lite – FREE Live Cool Themes, Hide ...  ...  2018\n",
              "3                              Sketch - Draw & Paint  ...  2018\n",
              "4              Pixel Draw - Number Art Coloring Book  ...  2018\n",
              "\n",
              "[5 rows x 6 columns]"
            ]
          },
          "metadata": {},
          "execution_count": 59
        }
      ]
    },
    {
      "cell_type": "code",
      "metadata": {
        "id": "am-AIWh9XNKi",
        "colab": {
          "base_uri": "https://localhost:8080/",
          "height": 357
        },
        "outputId": "598a92b4-e51e-4cb8-bb79-fc4d154ae0b3"
      },
      "source": [
        "year_grp=app_year.sort_values(['Installs','Reviews'],ascending=False).groupby('Year')\n",
        "year_grp.first().sort_index(ascending=False)"
      ],
      "execution_count": 60,
      "outputs": [
        {
          "output_type": "execute_result",
          "data": {
            "text/html": [
              "<div>\n",
              "<style scoped>\n",
              "    .dataframe tbody tr th:only-of-type {\n",
              "        vertical-align: middle;\n",
              "    }\n",
              "\n",
              "    .dataframe tbody tr th {\n",
              "        vertical-align: top;\n",
              "    }\n",
              "\n",
              "    .dataframe thead th {\n",
              "        text-align: right;\n",
              "    }\n",
              "</style>\n",
              "<table border=\"1\" class=\"dataframe\">\n",
              "  <thead>\n",
              "    <tr style=\"text-align: right;\">\n",
              "      <th></th>\n",
              "      <th>App</th>\n",
              "      <th>Installs</th>\n",
              "      <th>Reviews</th>\n",
              "      <th>Rating</th>\n",
              "      <th>Last Updated</th>\n",
              "    </tr>\n",
              "    <tr>\n",
              "      <th>Year</th>\n",
              "      <th></th>\n",
              "      <th></th>\n",
              "      <th></th>\n",
              "      <th></th>\n",
              "      <th></th>\n",
              "    </tr>\n",
              "  </thead>\n",
              "  <tbody>\n",
              "    <tr>\n",
              "      <th>2018</th>\n",
              "      <td>Facebook</td>\n",
              "      <td>1000000000</td>\n",
              "      <td>78158306</td>\n",
              "      <td>4.1</td>\n",
              "      <td>August 3, 2018</td>\n",
              "    </tr>\n",
              "    <tr>\n",
              "      <th>2017</th>\n",
              "      <td>Geometry Dash Lite</td>\n",
              "      <td>100000000</td>\n",
              "      <td>6181640</td>\n",
              "      <td>4.5</td>\n",
              "      <td>December 22, 2017</td>\n",
              "    </tr>\n",
              "    <tr>\n",
              "      <th>2016</th>\n",
              "      <td>Vector</td>\n",
              "      <td>100000000</td>\n",
              "      <td>3058687</td>\n",
              "      <td>4.4</td>\n",
              "      <td>July 18, 2016</td>\n",
              "    </tr>\n",
              "    <tr>\n",
              "      <th>2015</th>\n",
              "      <td>Smash Hit</td>\n",
              "      <td>100000000</td>\n",
              "      <td>4147718</td>\n",
              "      <td>4.5</td>\n",
              "      <td>November 26, 2015</td>\n",
              "    </tr>\n",
              "    <tr>\n",
              "      <th>2014</th>\n",
              "      <td>Five Nights at Freddy's 2 Demo</td>\n",
              "      <td>50000000</td>\n",
              "      <td>1503544</td>\n",
              "      <td>4.3</td>\n",
              "      <td>November 15, 2014</td>\n",
              "    </tr>\n",
              "    <tr>\n",
              "      <th>2013</th>\n",
              "      <td>SpongeBob Diner Dash</td>\n",
              "      <td>50000000</td>\n",
              "      <td>576210</td>\n",
              "      <td>4.0</td>\n",
              "      <td>August 22, 2013</td>\n",
              "    </tr>\n",
              "    <tr>\n",
              "      <th>2012</th>\n",
              "      <td>Aviary Stickers: Free Pack</td>\n",
              "      <td>10000000</td>\n",
              "      <td>126862</td>\n",
              "      <td>3.5</td>\n",
              "      <td>January 17, 2012</td>\n",
              "    </tr>\n",
              "    <tr>\n",
              "      <th>2011</th>\n",
              "      <td>CONTRACT KILLER: ZOMBIES</td>\n",
              "      <td>5000000</td>\n",
              "      <td>144545</td>\n",
              "      <td>4.4</td>\n",
              "      <td>December 1, 2011</td>\n",
              "    </tr>\n",
              "    <tr>\n",
              "      <th>2010</th>\n",
              "      <td>FML F*ck my life + widget</td>\n",
              "      <td>100000</td>\n",
              "      <td>1415</td>\n",
              "      <td>4.2</td>\n",
              "      <td>May 21, 2010</td>\n",
              "    </tr>\n",
              "  </tbody>\n",
              "</table>\n",
              "</div>"
            ],
            "text/plain": [
              "                                 App    Installs  ...  Rating       Last Updated\n",
              "Year                                              ...                           \n",
              "2018                        Facebook  1000000000  ...     4.1     August 3, 2018\n",
              "2017              Geometry Dash Lite   100000000  ...     4.5  December 22, 2017\n",
              "2016                          Vector   100000000  ...     4.4      July 18, 2016\n",
              "2015                       Smash Hit   100000000  ...     4.5  November 26, 2015\n",
              "2014  Five Nights at Freddy's 2 Demo    50000000  ...     4.3  November 15, 2014\n",
              "2013            SpongeBob Diner Dash    50000000  ...     4.0    August 22, 2013\n",
              "2012      Aviary Stickers: Free Pack    10000000  ...     3.5   January 17, 2012\n",
              "2011        CONTRACT KILLER: ZOMBIES     5000000  ...     4.4   December 1, 2011\n",
              "2010       FML F*ck my life + widget      100000  ...     4.2       May 21, 2010\n",
              "\n",
              "[9 rows x 5 columns]"
            ]
          },
          "metadata": {},
          "execution_count": 60
        }
      ]
    },
    {
      "cell_type": "code",
      "metadata": {
        "id": "6Fl-3e5PXPmo",
        "colab": {
          "base_uri": "https://localhost:8080/",
          "height": 357
        },
        "outputId": "0f2744d5-108e-4310-d36f-031d927299c8"
      },
      "source": [
        "year_grp=app_year.sort_values(['Reviews','Installs'],ascending=False).groupby('Year')\n",
        "year_grp.first().sort_index(ascending=False)"
      ],
      "execution_count": 61,
      "outputs": [
        {
          "output_type": "execute_result",
          "data": {
            "text/html": [
              "<div>\n",
              "<style scoped>\n",
              "    .dataframe tbody tr th:only-of-type {\n",
              "        vertical-align: middle;\n",
              "    }\n",
              "\n",
              "    .dataframe tbody tr th {\n",
              "        vertical-align: top;\n",
              "    }\n",
              "\n",
              "    .dataframe thead th {\n",
              "        text-align: right;\n",
              "    }\n",
              "</style>\n",
              "<table border=\"1\" class=\"dataframe\">\n",
              "  <thead>\n",
              "    <tr style=\"text-align: right;\">\n",
              "      <th></th>\n",
              "      <th>App</th>\n",
              "      <th>Installs</th>\n",
              "      <th>Reviews</th>\n",
              "      <th>Rating</th>\n",
              "      <th>Last Updated</th>\n",
              "    </tr>\n",
              "    <tr>\n",
              "      <th>Year</th>\n",
              "      <th></th>\n",
              "      <th></th>\n",
              "      <th></th>\n",
              "      <th></th>\n",
              "      <th></th>\n",
              "    </tr>\n",
              "  </thead>\n",
              "  <tbody>\n",
              "    <tr>\n",
              "      <th>2018</th>\n",
              "      <td>Facebook</td>\n",
              "      <td>1000000000</td>\n",
              "      <td>78158306</td>\n",
              "      <td>4.1</td>\n",
              "      <td>August 3, 2018</td>\n",
              "    </tr>\n",
              "    <tr>\n",
              "      <th>2017</th>\n",
              "      <td>Geometry Dash Lite</td>\n",
              "      <td>100000000</td>\n",
              "      <td>6181640</td>\n",
              "      <td>4.5</td>\n",
              "      <td>December 22, 2017</td>\n",
              "    </tr>\n",
              "    <tr>\n",
              "      <th>2016</th>\n",
              "      <td>Vector</td>\n",
              "      <td>100000000</td>\n",
              "      <td>3058687</td>\n",
              "      <td>4.4</td>\n",
              "      <td>July 18, 2016</td>\n",
              "    </tr>\n",
              "    <tr>\n",
              "      <th>2015</th>\n",
              "      <td>Smash Hit</td>\n",
              "      <td>100000000</td>\n",
              "      <td>4147718</td>\n",
              "      <td>4.5</td>\n",
              "      <td>November 26, 2015</td>\n",
              "    </tr>\n",
              "    <tr>\n",
              "      <th>2014</th>\n",
              "      <td>FRONTLINE COMMANDO: D-DAY</td>\n",
              "      <td>10000000</td>\n",
              "      <td>1736105</td>\n",
              "      <td>4.5</td>\n",
              "      <td>May 16, 2014</td>\n",
              "    </tr>\n",
              "    <tr>\n",
              "      <th>2013</th>\n",
              "      <td>FRONTLINE COMMANDO</td>\n",
              "      <td>10000000</td>\n",
              "      <td>1351833</td>\n",
              "      <td>4.4</td>\n",
              "      <td>October 28, 2013</td>\n",
              "    </tr>\n",
              "    <tr>\n",
              "      <th>2012</th>\n",
              "      <td>Aviary Stickers: Free Pack</td>\n",
              "      <td>10000000</td>\n",
              "      <td>126862</td>\n",
              "      <td>3.5</td>\n",
              "      <td>January 17, 2012</td>\n",
              "    </tr>\n",
              "    <tr>\n",
              "      <th>2011</th>\n",
              "      <td>CONTRACT KILLER: ZOMBIES</td>\n",
              "      <td>5000000</td>\n",
              "      <td>144545</td>\n",
              "      <td>4.4</td>\n",
              "      <td>December 1, 2011</td>\n",
              "    </tr>\n",
              "    <tr>\n",
              "      <th>2010</th>\n",
              "      <td>FML F*ck my life + widget</td>\n",
              "      <td>100000</td>\n",
              "      <td>1415</td>\n",
              "      <td>4.2</td>\n",
              "      <td>May 21, 2010</td>\n",
              "    </tr>\n",
              "  </tbody>\n",
              "</table>\n",
              "</div>"
            ],
            "text/plain": [
              "                             App    Installs  ...  Rating       Last Updated\n",
              "Year                                          ...                           \n",
              "2018                    Facebook  1000000000  ...     4.1     August 3, 2018\n",
              "2017          Geometry Dash Lite   100000000  ...     4.5  December 22, 2017\n",
              "2016                      Vector   100000000  ...     4.4      July 18, 2016\n",
              "2015                   Smash Hit   100000000  ...     4.5  November 26, 2015\n",
              "2014   FRONTLINE COMMANDO: D-DAY    10000000  ...     4.5       May 16, 2014\n",
              "2013          FRONTLINE COMMANDO    10000000  ...     4.4   October 28, 2013\n",
              "2012  Aviary Stickers: Free Pack    10000000  ...     3.5   January 17, 2012\n",
              "2011    CONTRACT KILLER: ZOMBIES     5000000  ...     4.4   December 1, 2011\n",
              "2010   FML F*ck my life + widget      100000  ...     4.2       May 21, 2010\n",
              "\n",
              "[9 rows x 5 columns]"
            ]
          },
          "metadata": {},
          "execution_count": 61
        }
      ]
    },
    {
      "cell_type": "code",
      "metadata": {
        "id": "uRutcFJJXSR2"
      },
      "source": [
        "from sklearn.preprocessing import LabelEncoder"
      ],
      "execution_count": 62,
      "outputs": []
    },
    {
      "cell_type": "code",
      "metadata": {
        "id": "t1r-zuEUXUis"
      },
      "source": [
        "required_data=df[['App', 'Category', 'Reviews', 'Installs','Price', 'Content Rating','Value', 'Unit','Genres']]\n",
        "target=df['Rating']\n",
        "target.index=df['App']"
      ],
      "execution_count": 63,
      "outputs": []
    },
    {
      "cell_type": "code",
      "metadata": {
        "id": "c8ths2O7XXzk",
        "colab": {
          "base_uri": "https://localhost:8080/"
        },
        "outputId": "2578ad47-c9db-4922-d6b4-915fac9c7475"
      },
      "source": [
        "required_data['Year']=df['Last Updated'].apply(lambda a : a[-4:])\n",
        "required_data['Year']=required_data['Year'].astype(int)"
      ],
      "execution_count": 64,
      "outputs": [
        {
          "output_type": "stream",
          "name": "stderr",
          "text": [
            "/usr/local/lib/python3.7/dist-packages/ipykernel_launcher.py:1: SettingWithCopyWarning: \n",
            "A value is trying to be set on a copy of a slice from a DataFrame.\n",
            "Try using .loc[row_indexer,col_indexer] = value instead\n",
            "\n",
            "See the caveats in the documentation: https://pandas.pydata.org/pandas-docs/stable/user_guide/indexing.html#returning-a-view-versus-a-copy\n",
            "  \"\"\"Entry point for launching an IPython kernel.\n",
            "/usr/local/lib/python3.7/dist-packages/ipykernel_launcher.py:2: SettingWithCopyWarning: \n",
            "A value is trying to be set on a copy of a slice from a DataFrame.\n",
            "Try using .loc[row_indexer,col_indexer] = value instead\n",
            "\n",
            "See the caveats in the documentation: https://pandas.pydata.org/pandas-docs/stable/user_guide/indexing.html#returning-a-view-versus-a-copy\n",
            "  \n"
          ]
        }
      ]
    },
    {
      "cell_type": "code",
      "metadata": {
        "id": "GocsHCkgXa6m",
        "colab": {
          "base_uri": "https://localhost:8080/",
          "height": 301
        },
        "outputId": "c70a89a2-a10c-4fe4-b496-c2d79aa544bc"
      },
      "source": [
        "required_data.set_index('App',inplace=True)\n",
        "required_data.head()"
      ],
      "execution_count": 65,
      "outputs": [
        {
          "output_type": "execute_result",
          "data": {
            "text/html": [
              "<div>\n",
              "<style scoped>\n",
              "    .dataframe tbody tr th:only-of-type {\n",
              "        vertical-align: middle;\n",
              "    }\n",
              "\n",
              "    .dataframe tbody tr th {\n",
              "        vertical-align: top;\n",
              "    }\n",
              "\n",
              "    .dataframe thead th {\n",
              "        text-align: right;\n",
              "    }\n",
              "</style>\n",
              "<table border=\"1\" class=\"dataframe\">\n",
              "  <thead>\n",
              "    <tr style=\"text-align: right;\">\n",
              "      <th></th>\n",
              "      <th>Category</th>\n",
              "      <th>Reviews</th>\n",
              "      <th>Installs</th>\n",
              "      <th>Price</th>\n",
              "      <th>Content Rating</th>\n",
              "      <th>Value</th>\n",
              "      <th>Unit</th>\n",
              "      <th>Genres</th>\n",
              "      <th>Year</th>\n",
              "    </tr>\n",
              "    <tr>\n",
              "      <th>App</th>\n",
              "      <th></th>\n",
              "      <th></th>\n",
              "      <th></th>\n",
              "      <th></th>\n",
              "      <th></th>\n",
              "      <th></th>\n",
              "      <th></th>\n",
              "      <th></th>\n",
              "      <th></th>\n",
              "    </tr>\n",
              "  </thead>\n",
              "  <tbody>\n",
              "    <tr>\n",
              "      <th>Photo Editor &amp; Candy Camera &amp; Grid &amp; ScrapBook</th>\n",
              "      <td>ART_AND_DESIGN</td>\n",
              "      <td>159</td>\n",
              "      <td>10000</td>\n",
              "      <td>0.0</td>\n",
              "      <td>Everyone</td>\n",
              "      <td>19.0</td>\n",
              "      <td>M</td>\n",
              "      <td>Art &amp; Design</td>\n",
              "      <td>2018</td>\n",
              "    </tr>\n",
              "    <tr>\n",
              "      <th>Coloring book moana</th>\n",
              "      <td>ART_AND_DESIGN</td>\n",
              "      <td>967</td>\n",
              "      <td>500000</td>\n",
              "      <td>0.0</td>\n",
              "      <td>Everyone</td>\n",
              "      <td>14.0</td>\n",
              "      <td>M</td>\n",
              "      <td>Art &amp; Design;Pretend Play</td>\n",
              "      <td>2018</td>\n",
              "    </tr>\n",
              "    <tr>\n",
              "      <th>U Launcher Lite – FREE Live Cool Themes, Hide Apps</th>\n",
              "      <td>ART_AND_DESIGN</td>\n",
              "      <td>87510</td>\n",
              "      <td>5000000</td>\n",
              "      <td>0.0</td>\n",
              "      <td>Everyone</td>\n",
              "      <td>8.7</td>\n",
              "      <td>M</td>\n",
              "      <td>Art &amp; Design</td>\n",
              "      <td>2018</td>\n",
              "    </tr>\n",
              "    <tr>\n",
              "      <th>Sketch - Draw &amp; Paint</th>\n",
              "      <td>ART_AND_DESIGN</td>\n",
              "      <td>215644</td>\n",
              "      <td>50000000</td>\n",
              "      <td>0.0</td>\n",
              "      <td>Teen</td>\n",
              "      <td>25.0</td>\n",
              "      <td>M</td>\n",
              "      <td>Art &amp; Design</td>\n",
              "      <td>2018</td>\n",
              "    </tr>\n",
              "    <tr>\n",
              "      <th>Pixel Draw - Number Art Coloring Book</th>\n",
              "      <td>ART_AND_DESIGN</td>\n",
              "      <td>967</td>\n",
              "      <td>100000</td>\n",
              "      <td>0.0</td>\n",
              "      <td>Everyone</td>\n",
              "      <td>2.8</td>\n",
              "      <td>M</td>\n",
              "      <td>Art &amp; Design;Creativity</td>\n",
              "      <td>2018</td>\n",
              "    </tr>\n",
              "  </tbody>\n",
              "</table>\n",
              "</div>"
            ],
            "text/plain": [
              "                                                          Category  ...  Year\n",
              "App                                                                 ...      \n",
              "Photo Editor & Candy Camera & Grid & ScrapBook      ART_AND_DESIGN  ...  2018\n",
              "Coloring book moana                                 ART_AND_DESIGN  ...  2018\n",
              "U Launcher Lite – FREE Live Cool Themes, Hide Apps  ART_AND_DESIGN  ...  2018\n",
              "Sketch - Draw & Paint                               ART_AND_DESIGN  ...  2018\n",
              "Pixel Draw - Number Art Coloring Book               ART_AND_DESIGN  ...  2018\n",
              "\n",
              "[5 rows x 9 columns]"
            ]
          },
          "metadata": {},
          "execution_count": 65
        }
      ]
    },
    {
      "cell_type": "code",
      "metadata": {
        "id": "17fHnN1kXc3C",
        "colab": {
          "base_uri": "https://localhost:8080/"
        },
        "outputId": "679207e6-b2b4-4923-a152-08db7565509c"
      },
      "source": [
        "required_data.info()"
      ],
      "execution_count": 66,
      "outputs": [
        {
          "output_type": "stream",
          "name": "stdout",
          "text": [
            "<class 'pandas.core.frame.DataFrame'>\n",
            "Index: 10841 entries, Photo Editor & Candy Camera & Grid & ScrapBook to iHoroscope - 2018 Daily Horoscope & Astrology\n",
            "Data columns (total 9 columns):\n",
            " #   Column          Non-Null Count  Dtype  \n",
            "---  ------          --------------  -----  \n",
            " 0   Category        10841 non-null  object \n",
            " 1   Reviews         10841 non-null  int64  \n",
            " 2   Installs        10841 non-null  int64  \n",
            " 3   Price           10841 non-null  float64\n",
            " 4   Content Rating  10841 non-null  object \n",
            " 5   Value           10841 non-null  float64\n",
            " 6   Unit            10841 non-null  object \n",
            " 7   Genres          10841 non-null  object \n",
            " 8   Year            10841 non-null  int64  \n",
            "dtypes: float64(2), int64(3), object(4)\n",
            "memory usage: 847.0+ KB\n"
          ]
        }
      ]
    },
    {
      "cell_type": "code",
      "metadata": {
        "id": "bDlAWh4SXhsP"
      },
      "source": [
        "required_data=pd.get_dummies(required_data,columns=['Unit'],drop_first=True)"
      ],
      "execution_count": 67,
      "outputs": []
    },
    {
      "cell_type": "code",
      "metadata": {
        "id": "lKQKJHa-XkwM"
      },
      "source": [
        "LE=LabelEncoder()\n",
        "LE.fit(required_data['Content Rating'])\n",
        "required_data['Content Rating']=LE.transform(required_data['Content Rating'])"
      ],
      "execution_count": 68,
      "outputs": []
    },
    {
      "cell_type": "code",
      "metadata": {
        "id": "4uzH_w0hXm2M"
      },
      "source": [
        "LE.fit(required_data['Category'])\n",
        "required_data['Category']=LE.transform(required_data['Category'])"
      ],
      "execution_count": 69,
      "outputs": []
    },
    {
      "cell_type": "code",
      "metadata": {
        "id": "wvu7BWZVXozM"
      },
      "source": [
        "LE.fit(required_data['Genres'])\n",
        "required_data['Genres']=LE.transform(required_data['Genres'])"
      ],
      "execution_count": 70,
      "outputs": []
    },
    {
      "cell_type": "code",
      "metadata": {
        "id": "hYqUcCaDXq0G",
        "colab": {
          "base_uri": "https://localhost:8080/",
          "height": 234
        },
        "outputId": "590aee49-d1a8-47d6-efb5-2693afc11518"
      },
      "source": [
        "required_data.head()"
      ],
      "execution_count": 71,
      "outputs": [
        {
          "output_type": "execute_result",
          "data": {
            "text/html": [
              "<div>\n",
              "<style scoped>\n",
              "    .dataframe tbody tr th:only-of-type {\n",
              "        vertical-align: middle;\n",
              "    }\n",
              "\n",
              "    .dataframe tbody tr th {\n",
              "        vertical-align: top;\n",
              "    }\n",
              "\n",
              "    .dataframe thead th {\n",
              "        text-align: right;\n",
              "    }\n",
              "</style>\n",
              "<table border=\"1\" class=\"dataframe\">\n",
              "  <thead>\n",
              "    <tr style=\"text-align: right;\">\n",
              "      <th></th>\n",
              "      <th>Category</th>\n",
              "      <th>Reviews</th>\n",
              "      <th>Installs</th>\n",
              "      <th>Price</th>\n",
              "      <th>Content Rating</th>\n",
              "      <th>Value</th>\n",
              "      <th>Genres</th>\n",
              "      <th>Year</th>\n",
              "      <th>Unit_k</th>\n",
              "    </tr>\n",
              "    <tr>\n",
              "      <th>App</th>\n",
              "      <th></th>\n",
              "      <th></th>\n",
              "      <th></th>\n",
              "      <th></th>\n",
              "      <th></th>\n",
              "      <th></th>\n",
              "      <th></th>\n",
              "      <th></th>\n",
              "      <th></th>\n",
              "    </tr>\n",
              "  </thead>\n",
              "  <tbody>\n",
              "    <tr>\n",
              "      <th>Photo Editor &amp; Candy Camera &amp; Grid &amp; ScrapBook</th>\n",
              "      <td>0</td>\n",
              "      <td>159</td>\n",
              "      <td>10000</td>\n",
              "      <td>0.0</td>\n",
              "      <td>1</td>\n",
              "      <td>19.0</td>\n",
              "      <td>9</td>\n",
              "      <td>2018</td>\n",
              "      <td>0</td>\n",
              "    </tr>\n",
              "    <tr>\n",
              "      <th>Coloring book moana</th>\n",
              "      <td>0</td>\n",
              "      <td>967</td>\n",
              "      <td>500000</td>\n",
              "      <td>0.0</td>\n",
              "      <td>1</td>\n",
              "      <td>14.0</td>\n",
              "      <td>12</td>\n",
              "      <td>2018</td>\n",
              "      <td>0</td>\n",
              "    </tr>\n",
              "    <tr>\n",
              "      <th>U Launcher Lite – FREE Live Cool Themes, Hide Apps</th>\n",
              "      <td>0</td>\n",
              "      <td>87510</td>\n",
              "      <td>5000000</td>\n",
              "      <td>0.0</td>\n",
              "      <td>1</td>\n",
              "      <td>8.7</td>\n",
              "      <td>9</td>\n",
              "      <td>2018</td>\n",
              "      <td>0</td>\n",
              "    </tr>\n",
              "    <tr>\n",
              "      <th>Sketch - Draw &amp; Paint</th>\n",
              "      <td>0</td>\n",
              "      <td>215644</td>\n",
              "      <td>50000000</td>\n",
              "      <td>0.0</td>\n",
              "      <td>4</td>\n",
              "      <td>25.0</td>\n",
              "      <td>9</td>\n",
              "      <td>2018</td>\n",
              "      <td>0</td>\n",
              "    </tr>\n",
              "    <tr>\n",
              "      <th>Pixel Draw - Number Art Coloring Book</th>\n",
              "      <td>0</td>\n",
              "      <td>967</td>\n",
              "      <td>100000</td>\n",
              "      <td>0.0</td>\n",
              "      <td>1</td>\n",
              "      <td>2.8</td>\n",
              "      <td>11</td>\n",
              "      <td>2018</td>\n",
              "      <td>0</td>\n",
              "    </tr>\n",
              "  </tbody>\n",
              "</table>\n",
              "</div>"
            ],
            "text/plain": [
              "                                                    Category  ...  Unit_k\n",
              "App                                                           ...        \n",
              "Photo Editor & Candy Camera & Grid & ScrapBook             0  ...       0\n",
              "Coloring book moana                                        0  ...       0\n",
              "U Launcher Lite – FREE Live Cool Themes, Hide Apps         0  ...       0\n",
              "Sketch - Draw & Paint                                      0  ...       0\n",
              "Pixel Draw - Number Art Coloring Book                      0  ...       0\n",
              "\n",
              "[5 rows x 9 columns]"
            ]
          },
          "metadata": {},
          "execution_count": 71
        }
      ]
    },
    {
      "cell_type": "code",
      "metadata": {
        "id": "sIGiLCN-XtZC",
        "colab": {
          "base_uri": "https://localhost:8080/"
        },
        "outputId": "3bf39df6-be86-4e5f-b7c8-884c75d9cfb0"
      },
      "source": [
        "required_data.info()"
      ],
      "execution_count": 72,
      "outputs": [
        {
          "output_type": "stream",
          "name": "stdout",
          "text": [
            "<class 'pandas.core.frame.DataFrame'>\n",
            "Index: 10841 entries, Photo Editor & Candy Camera & Grid & ScrapBook to iHoroscope - 2018 Daily Horoscope & Astrology\n",
            "Data columns (total 9 columns):\n",
            " #   Column          Non-Null Count  Dtype  \n",
            "---  ------          --------------  -----  \n",
            " 0   Category        10841 non-null  int64  \n",
            " 1   Reviews         10841 non-null  int64  \n",
            " 2   Installs        10841 non-null  int64  \n",
            " 3   Price           10841 non-null  float64\n",
            " 4   Content Rating  10841 non-null  int64  \n",
            " 5   Value           10841 non-null  float64\n",
            " 6   Genres          10841 non-null  int64  \n",
            " 7   Year            10841 non-null  int64  \n",
            " 8   Unit_k          10841 non-null  uint8  \n",
            "dtypes: float64(2), int64(6), uint8(1)\n",
            "memory usage: 772.8+ KB\n"
          ]
        }
      ]
    },
    {
      "cell_type": "code",
      "metadata": {
        "id": "tG7ViuiKXvYA",
        "colab": {
          "base_uri": "https://localhost:8080/"
        },
        "outputId": "a01790a2-4ff1-4e02-8340-94eea365791c"
      },
      "source": [
        "required_data.shape"
      ],
      "execution_count": 73,
      "outputs": [
        {
          "output_type": "execute_result",
          "data": {
            "text/plain": [
              "(10841, 9)"
            ]
          },
          "metadata": {},
          "execution_count": 73
        }
      ]
    },
    {
      "cell_type": "code",
      "metadata": {
        "id": "j-rYEQCGl1Wj"
      },
      "source": [
        "from sklearn.preprocessing import StandardScaler\n",
        "from sklearn.model_selection import train_test_split\n",
        "from sklearn.linear_model import LinearRegression, Lasso\n",
        "from sklearn.metrics import mean_squared_error"
      ],
      "execution_count": 75,
      "outputs": []
    },
    {
      "cell_type": "code",
      "metadata": {
        "id": "4aQw1934Xvmr"
      },
      "source": [
        "sc=StandardScaler()\n",
        "sc.fit(required_data)\n",
        "required_data_sc=sc.transform(required_data)"
      ],
      "execution_count": 76,
      "outputs": []
    },
    {
      "cell_type": "code",
      "metadata": {
        "id": "BaRPDGLaX4Pw"
      },
      "source": [
        "X_train, X_test, y_train, y_test = train_test_split(required_data_sc, target, test_size=0.3)"
      ],
      "execution_count": 77,
      "outputs": []
    },
    {
      "cell_type": "code",
      "metadata": {
        "id": "YDnWgpoNX713",
        "colab": {
          "base_uri": "https://localhost:8080/",
          "height": 234
        },
        "outputId": "3b2a5d1a-b988-4839-be2d-a429cbf525e5"
      },
      "source": [
        "prediction=pd.DataFrame(y_test)\n",
        "prediction.head()"
      ],
      "execution_count": 78,
      "outputs": [
        {
          "output_type": "execute_result",
          "data": {
            "text/html": [
              "<div>\n",
              "<style scoped>\n",
              "    .dataframe tbody tr th:only-of-type {\n",
              "        vertical-align: middle;\n",
              "    }\n",
              "\n",
              "    .dataframe tbody tr th {\n",
              "        vertical-align: top;\n",
              "    }\n",
              "\n",
              "    .dataframe thead th {\n",
              "        text-align: right;\n",
              "    }\n",
              "</style>\n",
              "<table border=\"1\" class=\"dataframe\">\n",
              "  <thead>\n",
              "    <tr style=\"text-align: right;\">\n",
              "      <th></th>\n",
              "      <th>Rating</th>\n",
              "    </tr>\n",
              "    <tr>\n",
              "      <th>App</th>\n",
              "      <th></th>\n",
              "    </tr>\n",
              "  </thead>\n",
              "  <tbody>\n",
              "    <tr>\n",
              "      <th>Go</th>\n",
              "      <td>4.6</td>\n",
              "    </tr>\n",
              "    <tr>\n",
              "      <th>DC Metro Transit - Free</th>\n",
              "      <td>4.4</td>\n",
              "    </tr>\n",
              "    <tr>\n",
              "      <th>Cinematic Cinematic</th>\n",
              "      <td>4.4</td>\n",
              "    </tr>\n",
              "    <tr>\n",
              "      <th>Shopkick: Free Gift Cards, Shop Rewards &amp; Deals</th>\n",
              "      <td>4.3</td>\n",
              "    </tr>\n",
              "    <tr>\n",
              "      <th>WiFi FPV</th>\n",
              "      <td>3.8</td>\n",
              "    </tr>\n",
              "  </tbody>\n",
              "</table>\n",
              "</div>"
            ],
            "text/plain": [
              "                                                 Rating\n",
              "App                                                    \n",
              "Go                                                  4.6\n",
              "DC Metro Transit - Free                             4.4\n",
              "Cinematic Cinematic                                 4.4\n",
              "Shopkick: Free Gift Cards, Shop Rewards & Deals     4.3\n",
              "WiFi FPV                                            3.8"
            ]
          },
          "metadata": {},
          "execution_count": 78
        }
      ]
    },
    {
      "cell_type": "code",
      "metadata": {
        "id": "YXFgdlyWX-oR",
        "colab": {
          "base_uri": "https://localhost:8080/",
          "height": 234
        },
        "outputId": "d4a8430b-4505-4769-8fbd-518bcda5947c"
      },
      "source": [
        "prediction=pd.DataFrame(y_test)\n",
        "prediction.head()"
      ],
      "execution_count": 79,
      "outputs": [
        {
          "output_type": "execute_result",
          "data": {
            "text/html": [
              "<div>\n",
              "<style scoped>\n",
              "    .dataframe tbody tr th:only-of-type {\n",
              "        vertical-align: middle;\n",
              "    }\n",
              "\n",
              "    .dataframe tbody tr th {\n",
              "        vertical-align: top;\n",
              "    }\n",
              "\n",
              "    .dataframe thead th {\n",
              "        text-align: right;\n",
              "    }\n",
              "</style>\n",
              "<table border=\"1\" class=\"dataframe\">\n",
              "  <thead>\n",
              "    <tr style=\"text-align: right;\">\n",
              "      <th></th>\n",
              "      <th>Rating</th>\n",
              "    </tr>\n",
              "    <tr>\n",
              "      <th>App</th>\n",
              "      <th></th>\n",
              "    </tr>\n",
              "  </thead>\n",
              "  <tbody>\n",
              "    <tr>\n",
              "      <th>Go</th>\n",
              "      <td>4.6</td>\n",
              "    </tr>\n",
              "    <tr>\n",
              "      <th>DC Metro Transit - Free</th>\n",
              "      <td>4.4</td>\n",
              "    </tr>\n",
              "    <tr>\n",
              "      <th>Cinematic Cinematic</th>\n",
              "      <td>4.4</td>\n",
              "    </tr>\n",
              "    <tr>\n",
              "      <th>Shopkick: Free Gift Cards, Shop Rewards &amp; Deals</th>\n",
              "      <td>4.3</td>\n",
              "    </tr>\n",
              "    <tr>\n",
              "      <th>WiFi FPV</th>\n",
              "      <td>3.8</td>\n",
              "    </tr>\n",
              "  </tbody>\n",
              "</table>\n",
              "</div>"
            ],
            "text/plain": [
              "                                                 Rating\n",
              "App                                                    \n",
              "Go                                                  4.6\n",
              "DC Metro Transit - Free                             4.4\n",
              "Cinematic Cinematic                                 4.4\n",
              "Shopkick: Free Gift Cards, Shop Rewards & Deals     4.3\n",
              "WiFi FPV                                            3.8"
            ]
          },
          "metadata": {},
          "execution_count": 79
        }
      ]
    },
    {
      "cell_type": "code",
      "metadata": {
        "id": "EK4XalhFYBva",
        "colab": {
          "base_uri": "https://localhost:8080/"
        },
        "outputId": "65a3bf9a-fdf7-4f8e-d692-19fddce7261b"
      },
      "source": [
        "LR=LinearRegression()\n",
        "LR.fit(X_train,y_train)"
      ],
      "execution_count": 82,
      "outputs": [
        {
          "output_type": "execute_result",
          "data": {
            "text/plain": [
              "LinearRegression(copy_X=True, fit_intercept=True, n_jobs=None, normalize=False)"
            ]
          },
          "metadata": {},
          "execution_count": 82
        }
      ]
    },
    {
      "cell_type": "code",
      "metadata": {
        "id": "-gdjc31pmMkY"
      },
      "source": [
        "prediction['Linear_R']=LR.predict(X_test)\n",
        "prediction['Linear_R']=round(prediction['Linear_R'],1)"
      ],
      "execution_count": 83,
      "outputs": []
    },
    {
      "cell_type": "code",
      "metadata": {
        "id": "0475LWmlYEcm",
        "colab": {
          "base_uri": "https://localhost:8080/"
        },
        "outputId": "d7490abe-c919-49e5-ee17-067c65b8b600"
      },
      "source": [
        "print(np.sqrt(mean_squared_error(prediction['Rating'],prediction['Linear_R'])))"
      ],
      "execution_count": 84,
      "outputs": [
        {
          "output_type": "stream",
          "name": "stdout",
          "text": [
            "0.4615994859827898\n"
          ]
        }
      ]
    },
    {
      "cell_type": "code",
      "metadata": {
        "id": "ElKiFtJnYHvS",
        "colab": {
          "base_uri": "https://localhost:8080/"
        },
        "outputId": "b793377a-996e-4ea3-bb24-775998152050"
      },
      "source": [
        "lasso=Lasso()\n",
        "lasso.fit(X_train,y_train)"
      ],
      "execution_count": 85,
      "outputs": [
        {
          "output_type": "execute_result",
          "data": {
            "text/plain": [
              "Lasso(alpha=1.0, copy_X=True, fit_intercept=True, max_iter=1000,\n",
              "      normalize=False, positive=False, precompute=False, random_state=None,\n",
              "      selection='cyclic', tol=0.0001, warm_start=False)"
            ]
          },
          "metadata": {},
          "execution_count": 85
        }
      ]
    },
    {
      "cell_type": "code",
      "metadata": {
        "id": "yqGZuNLbYKZa"
      },
      "source": [
        "prediction['Lasso']=lasso.predict(X_test)\n",
        "prediction['Lasso']=round(prediction['Lasso'],1)"
      ],
      "execution_count": 86,
      "outputs": []
    },
    {
      "cell_type": "code",
      "metadata": {
        "id": "BUN-VjipYMrn",
        "colab": {
          "base_uri": "https://localhost:8080/"
        },
        "outputId": "04a9bf62-fd4e-4a04-8dd8-0d8c8aee3fde"
      },
      "source": [
        "print(np.sqrt(mean_squared_error(prediction['Rating'],prediction['Lasso'])))"
      ],
      "execution_count": 87,
      "outputs": [
        {
          "output_type": "stream",
          "name": "stdout",
          "text": [
            "0.46585535436406766\n"
          ]
        }
      ]
    },
    {
      "cell_type": "code",
      "metadata": {
        "id": "nTwKsU2jYO64",
        "colab": {
          "base_uri": "https://localhost:8080/",
          "height": 388
        },
        "outputId": "f6718b0f-0889-46aa-8e16-37eb3cc6ed50"
      },
      "source": [
        "prediction.head(10)"
      ],
      "execution_count": 88,
      "outputs": [
        {
          "output_type": "execute_result",
          "data": {
            "text/html": [
              "<div>\n",
              "<style scoped>\n",
              "    .dataframe tbody tr th:only-of-type {\n",
              "        vertical-align: middle;\n",
              "    }\n",
              "\n",
              "    .dataframe tbody tr th {\n",
              "        vertical-align: top;\n",
              "    }\n",
              "\n",
              "    .dataframe thead th {\n",
              "        text-align: right;\n",
              "    }\n",
              "</style>\n",
              "<table border=\"1\" class=\"dataframe\">\n",
              "  <thead>\n",
              "    <tr style=\"text-align: right;\">\n",
              "      <th></th>\n",
              "      <th>Rating</th>\n",
              "      <th>Linear_R</th>\n",
              "      <th>Lasso</th>\n",
              "    </tr>\n",
              "    <tr>\n",
              "      <th>App</th>\n",
              "      <th></th>\n",
              "      <th></th>\n",
              "      <th></th>\n",
              "    </tr>\n",
              "  </thead>\n",
              "  <tbody>\n",
              "    <tr>\n",
              "      <th>Go</th>\n",
              "      <td>4.6</td>\n",
              "      <td>4.2</td>\n",
              "      <td>4.2</td>\n",
              "    </tr>\n",
              "    <tr>\n",
              "      <th>DC Metro Transit - Free</th>\n",
              "      <td>4.4</td>\n",
              "      <td>4.2</td>\n",
              "      <td>4.2</td>\n",
              "    </tr>\n",
              "    <tr>\n",
              "      <th>Cinematic Cinematic</th>\n",
              "      <td>4.4</td>\n",
              "      <td>4.2</td>\n",
              "      <td>4.2</td>\n",
              "    </tr>\n",
              "    <tr>\n",
              "      <th>Shopkick: Free Gift Cards, Shop Rewards &amp; Deals</th>\n",
              "      <td>4.3</td>\n",
              "      <td>4.2</td>\n",
              "      <td>4.2</td>\n",
              "    </tr>\n",
              "    <tr>\n",
              "      <th>WiFi FPV</th>\n",
              "      <td>3.8</td>\n",
              "      <td>4.2</td>\n",
              "      <td>4.2</td>\n",
              "    </tr>\n",
              "    <tr>\n",
              "      <th>DG Mobile</th>\n",
              "      <td>4.3</td>\n",
              "      <td>4.2</td>\n",
              "      <td>4.2</td>\n",
              "    </tr>\n",
              "    <tr>\n",
              "      <th>Learn English with Aco</th>\n",
              "      <td>4.6</td>\n",
              "      <td>4.2</td>\n",
              "      <td>4.2</td>\n",
              "    </tr>\n",
              "    <tr>\n",
              "      <th>Walk with Map My Walk</th>\n",
              "      <td>4.5</td>\n",
              "      <td>4.2</td>\n",
              "      <td>4.2</td>\n",
              "    </tr>\n",
              "    <tr>\n",
              "      <th>Papumba Academy - Fun Learning For Kids</th>\n",
              "      <td>4.4</td>\n",
              "      <td>4.3</td>\n",
              "      <td>4.2</td>\n",
              "    </tr>\n",
              "    <tr>\n",
              "      <th>Hopeless Land: Fight for Survival</th>\n",
              "      <td>4.2</td>\n",
              "      <td>4.3</td>\n",
              "      <td>4.2</td>\n",
              "    </tr>\n",
              "  </tbody>\n",
              "</table>\n",
              "</div>"
            ],
            "text/plain": [
              "                                                 Rating  Linear_R  Lasso\n",
              "App                                                                     \n",
              "Go                                                  4.6       4.2    4.2\n",
              "DC Metro Transit - Free                             4.4       4.2    4.2\n",
              "Cinematic Cinematic                                 4.4       4.2    4.2\n",
              "Shopkick: Free Gift Cards, Shop Rewards & Deals     4.3       4.2    4.2\n",
              "WiFi FPV                                            3.8       4.2    4.2\n",
              "DG Mobile                                           4.3       4.2    4.2\n",
              "Learn English with Aco                              4.6       4.2    4.2\n",
              "Walk with Map My Walk                               4.5       4.2    4.2\n",
              "Papumba Academy - Fun Learning For Kids             4.4       4.3    4.2\n",
              "Hopeless Land: Fight for Survival                   4.2       4.3    4.2"
            ]
          },
          "metadata": {},
          "execution_count": 88
        }
      ]
    },
    {
      "cell_type": "code",
      "metadata": {
        "id": "yrK3inLdYSOr"
      },
      "source": [
        "app_recom=df[(df['Installs']>1000) & (df['Reviews']>100)][['Category', 'Reviews','Rating', 'Installs','Price', 'Content Rating','Genres']]"
      ],
      "execution_count": 89,
      "outputs": []
    },
    {
      "cell_type": "code",
      "metadata": {
        "id": "N_1j-S0TYU3x"
      },
      "source": [
        "app_recom=pd.get_dummies(app_recom,columns=['Category','Content Rating','Genres'],prefix='',prefix_sep='')"
      ],
      "execution_count": 90,
      "outputs": []
    },
    {
      "cell_type": "code",
      "metadata": {
        "id": "OdNKBkKLYWyo"
      },
      "source": [
        "sc=StandardScaler()\n",
        "sc.fit(app_recom)\n",
        "app_recom=pd.DataFrame(sc.transform(app_recom))"
      ],
      "execution_count": 91,
      "outputs": []
    },
    {
      "cell_type": "code",
      "metadata": {
        "id": "xE8smv5FYYqo"
      },
      "source": [
        "app_recom.index=df[(df['Installs']>1000) & (df['Reviews']>100)]['App']"
      ],
      "execution_count": 92,
      "outputs": []
    },
    {
      "cell_type": "code",
      "metadata": {
        "id": "jl-mmWzqYaer",
        "colab": {
          "base_uri": "https://localhost:8080/",
          "height": 386
        },
        "outputId": "c3d92989-7181-4519-e9d9-6e7885cf6b14"
      },
      "source": [
        "app_recom=app_recom.T\n",
        "app_recom.head()"
      ],
      "execution_count": 93,
      "outputs": [
        {
          "output_type": "execute_result",
          "data": {
            "text/html": [
              "<div>\n",
              "<style scoped>\n",
              "    .dataframe tbody tr th:only-of-type {\n",
              "        vertical-align: middle;\n",
              "    }\n",
              "\n",
              "    .dataframe tbody tr th {\n",
              "        vertical-align: top;\n",
              "    }\n",
              "\n",
              "    .dataframe thead th {\n",
              "        text-align: right;\n",
              "    }\n",
              "</style>\n",
              "<table border=\"1\" class=\"dataframe\">\n",
              "  <thead>\n",
              "    <tr style=\"text-align: right;\">\n",
              "      <th>App</th>\n",
              "      <th>Photo Editor &amp; Candy Camera &amp; Grid &amp; ScrapBook</th>\n",
              "      <th>Coloring book moana</th>\n",
              "      <th>U Launcher Lite – FREE Live Cool Themes, Hide Apps</th>\n",
              "      <th>Sketch - Draw &amp; Paint</th>\n",
              "      <th>Pixel Draw - Number Art Coloring Book</th>\n",
              "      <th>Paper flowers instructions</th>\n",
              "      <th>Smoke Effect Photo Maker - Smoke Editor</th>\n",
              "      <th>Infinite Painter</th>\n",
              "      <th>Garden Coloring Book</th>\n",
              "      <th>Kids Paint Free - Drawing Fun</th>\n",
              "      <th>Text on Photo - Fonteee</th>\n",
              "      <th>Name Art Photo Editor - Focus n Filters</th>\n",
              "      <th>Tattoo Name On My Photo Editor</th>\n",
              "      <th>Mandala Coloring Book</th>\n",
              "      <th>3D Color Pixel by Number - Sandbox Art Coloring</th>\n",
              "      <th>Photo Designer - Write your name with shapes</th>\n",
              "      <th>FlipaClip - Cartoon animation</th>\n",
              "      <th>ibis Paint X</th>\n",
              "      <th>Logo Maker - Small Business</th>\n",
              "      <th>Boys Photo Editor - Six Pack &amp; Men's Suit</th>\n",
              "      <th>Superheroes Wallpapers | 4K Backgrounds</th>\n",
              "      <th>HD Mickey Minnie Wallpapers</th>\n",
              "      <th>Harley Quinn wallpapers HD</th>\n",
              "      <th>Colorfit - Drawing &amp; Coloring</th>\n",
              "      <th>Animated Photo Editor</th>\n",
              "      <th>Pencil Sketch Drawing</th>\n",
              "      <th>Easy Realistic Drawing Tutorial</th>\n",
              "      <th>Pink Silver Bow Keyboard Theme</th>\n",
              "      <th>Art Drawing Ideas</th>\n",
              "      <th>Anime Manga Coloring Book</th>\n",
              "      <th>Easy Origami Ideas</th>\n",
              "      <th>I Creative Idea</th>\n",
              "      <th>How to draw Ladybug and Cat Noir</th>\n",
              "      <th>UNICORN - Color By Number &amp; Pixel Art Coloring</th>\n",
              "      <th>Floor Plan Creator</th>\n",
              "      <th>PIP Camera - PIP Collage Maker</th>\n",
              "      <th>How To Color Disney Princess - Coloring Pages</th>\n",
              "      <th>Drawing Clothes Fashion Ideas</th>\n",
              "      <th>Sad Poetry Photo Frames 2018</th>\n",
              "      <th>Textgram - write on photos</th>\n",
              "      <th>...</th>\n",
              "      <th>Fisher-Price® Smart Connect™</th>\n",
              "      <th>Fingerprint Lock Screen Prank</th>\n",
              "      <th>FP Разбитый дисплей</th>\n",
              "      <th>Chat For Strangers - Video Chat</th>\n",
              "      <th>FreedomPop Diagnostics</th>\n",
              "      <th>Modern Counter Terrorist FPS Shoot</th>\n",
              "      <th>BEBONCOOL GAMEPAD V1.0</th>\n",
              "      <th>Union League</th>\n",
              "      <th>Fortune Quest: Savior</th>\n",
              "      <th>Modern Strike Online</th>\n",
              "      <th>Trine 2: Complete Story</th>\n",
              "      <th>Modern Counter Terror Attack – Shooting Game</th>\n",
              "      <th>Big Hunter</th>\n",
              "      <th>sugar, sugar</th>\n",
              "      <th>ChopAssistant</th>\n",
              "      <th>Modern Counter Global Strike 3D</th>\n",
              "      <th>Modern Counter Global Strike 3D V2</th>\n",
              "      <th>HipChat - beta version</th>\n",
              "      <th>Winter Wonderland</th>\n",
              "      <th>Soccer Clubs Logo Quiz</th>\n",
              "      <th>Sid Story</th>\n",
              "      <th>Reindeer VPN - Proxy VPN</th>\n",
              "      <th>Inf VPN - Global Proxy &amp; Unlimited Free WIFI VPN</th>\n",
              "      <th>Fuel Rewards® program</th>\n",
              "      <th>Fr Daoud Lamei</th>\n",
              "      <th>FR Roster</th>\n",
              "      <th>FR: My Famous Lover</th>\n",
              "      <th>Fatal Raid - No.1 Mobile FPS</th>\n",
              "      <th>Poker Pro.Fr</th>\n",
              "      <th>Castle Clash: RPG War and Strategy FR</th>\n",
              "      <th>FR: My Secret Pets!</th>\n",
              "      <th>Golden Dictionary (FR-AR)</th>\n",
              "      <th>HTC Sense Input - FR</th>\n",
              "      <th>Frim: get new friends on local chat rooms</th>\n",
              "      <th>Fr Agnel Ambarnath</th>\n",
              "      <th>Manga-FR - Anime Vostfr</th>\n",
              "      <th>Bulgarian French Dictionary Fr</th>\n",
              "      <th>News Minecraft.fr</th>\n",
              "      <th>FR Tides</th>\n",
              "      <th>iHoroscope - 2018 Daily Horoscope &amp; Astrology</th>\n",
              "    </tr>\n",
              "  </thead>\n",
              "  <tbody>\n",
              "    <tr>\n",
              "      <th>0</th>\n",
              "      <td>-0.184793</td>\n",
              "      <td>-0.184564</td>\n",
              "      <td>-0.160037</td>\n",
              "      <td>-0.123723</td>\n",
              "      <td>-0.184564</td>\n",
              "      <td>-0.184791</td>\n",
              "      <td>-0.184787</td>\n",
              "      <td>-0.174404</td>\n",
              "      <td>-0.180929</td>\n",
              "      <td>-0.184804</td>\n",
              "      <td>-0.180904</td>\n",
              "      <td>-0.182347</td>\n",
              "      <td>-0.172133</td>\n",
              "      <td>-0.183612</td>\n",
              "      <td>-0.184408</td>\n",
              "      <td>-0.183809</td>\n",
              "      <td>-0.129796</td>\n",
              "      <td>-0.121242</td>\n",
              "      <td>-0.184710</td>\n",
              "      <td>-0.184653</td>\n",
              "      <td>-0.182656</td>\n",
              "      <td>-0.184804</td>\n",
              "      <td>-0.184783</td>\n",
              "      <td>-0.179096</td>\n",
              "      <td>-0.184780</td>\n",
              "      <td>-0.184799</td>\n",
              "      <td>-0.184775</td>\n",
              "      <td>-0.184520</td>\n",
              "      <td>-0.184774</td>\n",
              "      <td>-0.183411</td>\n",
              "      <td>-0.184550</td>\n",
              "      <td>-0.184738</td>\n",
              "      <td>-0.184678</td>\n",
              "      <td>-0.182530</td>\n",
              "      <td>-0.174454</td>\n",
              "      <td>-0.184793</td>\n",
              "      <td>-0.184670</td>\n",
              "      <td>-0.184805</td>\n",
              "      <td>-0.184788</td>\n",
              "      <td>-0.101170</td>\n",
              "      <td>...</td>\n",
              "      <td>-0.184718</td>\n",
              "      <td>-0.181781</td>\n",
              "      <td>-0.184577</td>\n",
              "      <td>-0.184662</td>\n",
              "      <td>-0.184710</td>\n",
              "      <td>-0.184613</td>\n",
              "      <td>-0.184723</td>\n",
              "      <td>-0.184572</td>\n",
              "      <td>-0.184800</td>\n",
              "      <td>0.051557</td>\n",
              "      <td>-0.184766</td>\n",
              "      <td>-0.184741</td>\n",
              "      <td>-0.115274</td>\n",
              "      <td>-0.184440</td>\n",
              "      <td>-0.184709</td>\n",
              "      <td>-0.184754</td>\n",
              "      <td>-0.184734</td>\n",
              "      <td>-0.184545</td>\n",
              "      <td>-0.184473</td>\n",
              "      <td>-0.178699</td>\n",
              "      <td>-0.176758</td>\n",
              "      <td>-0.182758</td>\n",
              "      <td>-0.167424</td>\n",
              "      <td>-0.175646</td>\n",
              "      <td>-0.184261</td>\n",
              "      <td>-0.184789</td>\n",
              "      <td>-0.184785</td>\n",
              "      <td>-0.168826</td>\n",
              "      <td>-0.183296</td>\n",
              "      <td>-0.078214</td>\n",
              "      <td>-0.184615</td>\n",
              "      <td>-0.183201</td>\n",
              "      <td>-0.184587</td>\n",
              "      <td>-0.159760</td>\n",
              "      <td>-0.184805</td>\n",
              "      <td>-0.184755</td>\n",
              "      <td>-0.184667</td>\n",
              "      <td>-0.184588</td>\n",
              "      <td>-0.184499</td>\n",
              "      <td>-0.071955</td>\n",
              "    </tr>\n",
              "    <tr>\n",
              "      <th>1</th>\n",
              "      <td>-0.287279</td>\n",
              "      <td>-0.780692</td>\n",
              "      <td>1.192962</td>\n",
              "      <td>0.699548</td>\n",
              "      <td>0.206135</td>\n",
              "      <td>0.452842</td>\n",
              "      <td>-1.027399</td>\n",
              "      <td>-0.287279</td>\n",
              "      <td>0.452842</td>\n",
              "      <td>1.192962</td>\n",
              "      <td>0.452842</td>\n",
              "      <td>0.452842</td>\n",
              "      <td>-0.040572</td>\n",
              "      <td>0.946255</td>\n",
              "      <td>0.452842</td>\n",
              "      <td>1.192962</td>\n",
              "      <td>0.206135</td>\n",
              "      <td>0.946255</td>\n",
              "      <td>-0.533985</td>\n",
              "      <td>-0.287279</td>\n",
              "      <td>1.192962</td>\n",
              "      <td>1.192962</td>\n",
              "      <td>1.439669</td>\n",
              "      <td>1.192962</td>\n",
              "      <td>-0.287279</td>\n",
              "      <td>-0.780692</td>\n",
              "      <td>-0.287279</td>\n",
              "      <td>-0.040572</td>\n",
              "      <td>-0.287279</td>\n",
              "      <td>0.699548</td>\n",
              "      <td>-0.040572</td>\n",
              "      <td>1.192962</td>\n",
              "      <td>-1.027399</td>\n",
              "      <td>1.192962</td>\n",
              "      <td>-0.287279</td>\n",
              "      <td>1.192962</td>\n",
              "      <td>-0.533985</td>\n",
              "      <td>-0.040572</td>\n",
              "      <td>0.699548</td>\n",
              "      <td>0.452842</td>\n",
              "      <td>...</td>\n",
              "      <td>-3.741173</td>\n",
              "      <td>-0.287279</td>\n",
              "      <td>0.699548</td>\n",
              "      <td>-2.014226</td>\n",
              "      <td>-3.247760</td>\n",
              "      <td>-0.533985</td>\n",
              "      <td>-0.780692</td>\n",
              "      <td>-0.533985</td>\n",
              "      <td>-1.520813</td>\n",
              "      <td>0.206135</td>\n",
              "      <td>-1.027399</td>\n",
              "      <td>-0.040572</td>\n",
              "      <td>0.206135</td>\n",
              "      <td>-0.040572</td>\n",
              "      <td>-0.040572</td>\n",
              "      <td>-0.287279</td>\n",
              "      <td>-0.533985</td>\n",
              "      <td>-0.287279</td>\n",
              "      <td>-0.533985</td>\n",
              "      <td>-0.040572</td>\n",
              "      <td>0.452842</td>\n",
              "      <td>-0.040572</td>\n",
              "      <td>1.192962</td>\n",
              "      <td>0.946255</td>\n",
              "      <td>1.192962</td>\n",
              "      <td>-0.287279</td>\n",
              "      <td>-0.533985</td>\n",
              "      <td>0.206135</td>\n",
              "      <td>-0.040572</td>\n",
              "      <td>1.192962</td>\n",
              "      <td>-0.533985</td>\n",
              "      <td>-0.040572</td>\n",
              "      <td>-0.533985</td>\n",
              "      <td>-0.533985</td>\n",
              "      <td>-0.040572</td>\n",
              "      <td>-2.014226</td>\n",
              "      <td>0.946255</td>\n",
              "      <td>-1.027399</td>\n",
              "      <td>-1.027399</td>\n",
              "      <td>0.699548</td>\n",
              "    </tr>\n",
              "    <tr>\n",
              "      <th>2</th>\n",
              "      <td>-0.222001</td>\n",
              "      <td>-0.217208</td>\n",
              "      <td>-0.173191</td>\n",
              "      <td>0.266984</td>\n",
              "      <td>-0.221121</td>\n",
              "      <td>-0.221610</td>\n",
              "      <td>-0.221610</td>\n",
              "      <td>-0.212317</td>\n",
              "      <td>-0.212317</td>\n",
              "      <td>-0.222001</td>\n",
              "      <td>-0.212317</td>\n",
              "      <td>-0.212317</td>\n",
              "      <td>-0.124282</td>\n",
              "      <td>-0.221121</td>\n",
              "      <td>-0.221121</td>\n",
              "      <td>-0.217208</td>\n",
              "      <td>-0.173191</td>\n",
              "      <td>-0.124282</td>\n",
              "      <td>-0.221121</td>\n",
              "      <td>-0.221121</td>\n",
              "      <td>-0.217208</td>\n",
              "      <td>-0.221610</td>\n",
              "      <td>-0.222001</td>\n",
              "      <td>-0.217208</td>\n",
              "      <td>-0.221121</td>\n",
              "      <td>-0.222001</td>\n",
              "      <td>-0.221121</td>\n",
              "      <td>-0.221121</td>\n",
              "      <td>-0.221610</td>\n",
              "      <td>-0.221121</td>\n",
              "      <td>-0.221121</td>\n",
              "      <td>-0.222001</td>\n",
              "      <td>-0.221121</td>\n",
              "      <td>-0.217208</td>\n",
              "      <td>-0.173191</td>\n",
              "      <td>-0.222001</td>\n",
              "      <td>-0.217208</td>\n",
              "      <td>-0.222001</td>\n",
              "      <td>-0.221121</td>\n",
              "      <td>-0.124282</td>\n",
              "      <td>...</td>\n",
              "      <td>-0.221610</td>\n",
              "      <td>-0.212317</td>\n",
              "      <td>-0.221610</td>\n",
              "      <td>-0.221121</td>\n",
              "      <td>-0.221121</td>\n",
              "      <td>-0.221121</td>\n",
              "      <td>-0.221121</td>\n",
              "      <td>-0.222001</td>\n",
              "      <td>-0.222001</td>\n",
              "      <td>-0.124282</td>\n",
              "      <td>-0.222001</td>\n",
              "      <td>-0.221610</td>\n",
              "      <td>-0.124282</td>\n",
              "      <td>-0.222001</td>\n",
              "      <td>-0.221610</td>\n",
              "      <td>-0.221610</td>\n",
              "      <td>-0.221610</td>\n",
              "      <td>-0.221610</td>\n",
              "      <td>-0.221610</td>\n",
              "      <td>-0.212317</td>\n",
              "      <td>-0.217208</td>\n",
              "      <td>-0.221121</td>\n",
              "      <td>-0.212317</td>\n",
              "      <td>-0.212317</td>\n",
              "      <td>-0.221121</td>\n",
              "      <td>-0.222050</td>\n",
              "      <td>-0.222001</td>\n",
              "      <td>-0.212317</td>\n",
              "      <td>-0.221121</td>\n",
              "      <td>-0.212317</td>\n",
              "      <td>-0.221610</td>\n",
              "      <td>-0.217208</td>\n",
              "      <td>-0.221121</td>\n",
              "      <td>-0.173191</td>\n",
              "      <td>-0.222050</td>\n",
              "      <td>-0.222001</td>\n",
              "      <td>-0.222001</td>\n",
              "      <td>-0.221121</td>\n",
              "      <td>-0.221121</td>\n",
              "      <td>-0.124282</td>\n",
              "    </tr>\n",
              "    <tr>\n",
              "      <th>3</th>\n",
              "      <td>-0.050750</td>\n",
              "      <td>-0.050750</td>\n",
              "      <td>-0.050750</td>\n",
              "      <td>-0.050750</td>\n",
              "      <td>-0.050750</td>\n",
              "      <td>-0.050750</td>\n",
              "      <td>-0.050750</td>\n",
              "      <td>-0.050750</td>\n",
              "      <td>-0.050750</td>\n",
              "      <td>-0.050750</td>\n",
              "      <td>-0.050750</td>\n",
              "      <td>-0.050750</td>\n",
              "      <td>-0.050750</td>\n",
              "      <td>-0.050750</td>\n",
              "      <td>-0.050750</td>\n",
              "      <td>-0.050750</td>\n",
              "      <td>-0.050750</td>\n",
              "      <td>-0.050750</td>\n",
              "      <td>-0.050750</td>\n",
              "      <td>-0.050750</td>\n",
              "      <td>-0.050750</td>\n",
              "      <td>-0.050750</td>\n",
              "      <td>-0.050750</td>\n",
              "      <td>-0.050750</td>\n",
              "      <td>-0.050750</td>\n",
              "      <td>-0.050750</td>\n",
              "      <td>-0.050750</td>\n",
              "      <td>-0.050750</td>\n",
              "      <td>-0.050750</td>\n",
              "      <td>-0.050750</td>\n",
              "      <td>-0.050750</td>\n",
              "      <td>-0.050750</td>\n",
              "      <td>-0.050750</td>\n",
              "      <td>-0.050750</td>\n",
              "      <td>-0.050750</td>\n",
              "      <td>-0.050750</td>\n",
              "      <td>-0.050750</td>\n",
              "      <td>-0.050750</td>\n",
              "      <td>-0.050750</td>\n",
              "      <td>-0.050750</td>\n",
              "      <td>...</td>\n",
              "      <td>-0.050750</td>\n",
              "      <td>-0.050750</td>\n",
              "      <td>-0.050750</td>\n",
              "      <td>-0.050750</td>\n",
              "      <td>-0.050750</td>\n",
              "      <td>-0.050750</td>\n",
              "      <td>-0.050750</td>\n",
              "      <td>-0.050750</td>\n",
              "      <td>-0.050750</td>\n",
              "      <td>-0.050750</td>\n",
              "      <td>1.129078</td>\n",
              "      <td>-0.050750</td>\n",
              "      <td>-0.050750</td>\n",
              "      <td>0.032581</td>\n",
              "      <td>-0.050750</td>\n",
              "      <td>-0.050750</td>\n",
              "      <td>-0.050750</td>\n",
              "      <td>-0.050750</td>\n",
              "      <td>-0.050750</td>\n",
              "      <td>-0.050750</td>\n",
              "      <td>-0.050750</td>\n",
              "      <td>-0.050750</td>\n",
              "      <td>-0.050750</td>\n",
              "      <td>-0.050750</td>\n",
              "      <td>-0.050750</td>\n",
              "      <td>-0.050750</td>\n",
              "      <td>-0.050750</td>\n",
              "      <td>-0.050750</td>\n",
              "      <td>-0.050750</td>\n",
              "      <td>-0.050750</td>\n",
              "      <td>-0.050750</td>\n",
              "      <td>-0.050750</td>\n",
              "      <td>-0.050750</td>\n",
              "      <td>-0.050750</td>\n",
              "      <td>-0.050750</td>\n",
              "      <td>-0.050750</td>\n",
              "      <td>-0.050750</td>\n",
              "      <td>-0.050750</td>\n",
              "      <td>-0.050750</td>\n",
              "      <td>-0.050750</td>\n",
              "    </tr>\n",
              "    <tr>\n",
              "      <th>4</th>\n",
              "      <td>11.872722</td>\n",
              "      <td>11.872722</td>\n",
              "      <td>11.872722</td>\n",
              "      <td>11.872722</td>\n",
              "      <td>11.872722</td>\n",
              "      <td>11.872722</td>\n",
              "      <td>11.872722</td>\n",
              "      <td>11.872722</td>\n",
              "      <td>11.872722</td>\n",
              "      <td>11.872722</td>\n",
              "      <td>11.872722</td>\n",
              "      <td>11.872722</td>\n",
              "      <td>11.872722</td>\n",
              "      <td>11.872722</td>\n",
              "      <td>11.872722</td>\n",
              "      <td>11.872722</td>\n",
              "      <td>11.872722</td>\n",
              "      <td>11.872722</td>\n",
              "      <td>11.872722</td>\n",
              "      <td>11.872722</td>\n",
              "      <td>11.872722</td>\n",
              "      <td>11.872722</td>\n",
              "      <td>11.872722</td>\n",
              "      <td>11.872722</td>\n",
              "      <td>11.872722</td>\n",
              "      <td>11.872722</td>\n",
              "      <td>11.872722</td>\n",
              "      <td>11.872722</td>\n",
              "      <td>11.872722</td>\n",
              "      <td>11.872722</td>\n",
              "      <td>11.872722</td>\n",
              "      <td>11.872722</td>\n",
              "      <td>11.872722</td>\n",
              "      <td>11.872722</td>\n",
              "      <td>11.872722</td>\n",
              "      <td>11.872722</td>\n",
              "      <td>11.872722</td>\n",
              "      <td>11.872722</td>\n",
              "      <td>11.872722</td>\n",
              "      <td>11.872722</td>\n",
              "      <td>...</td>\n",
              "      <td>-0.084227</td>\n",
              "      <td>-0.084227</td>\n",
              "      <td>-0.084227</td>\n",
              "      <td>-0.084227</td>\n",
              "      <td>-0.084227</td>\n",
              "      <td>-0.084227</td>\n",
              "      <td>-0.084227</td>\n",
              "      <td>-0.084227</td>\n",
              "      <td>-0.084227</td>\n",
              "      <td>-0.084227</td>\n",
              "      <td>-0.084227</td>\n",
              "      <td>-0.084227</td>\n",
              "      <td>-0.084227</td>\n",
              "      <td>-0.084227</td>\n",
              "      <td>-0.084227</td>\n",
              "      <td>-0.084227</td>\n",
              "      <td>-0.084227</td>\n",
              "      <td>-0.084227</td>\n",
              "      <td>-0.084227</td>\n",
              "      <td>-0.084227</td>\n",
              "      <td>-0.084227</td>\n",
              "      <td>-0.084227</td>\n",
              "      <td>-0.084227</td>\n",
              "      <td>-0.084227</td>\n",
              "      <td>-0.084227</td>\n",
              "      <td>-0.084227</td>\n",
              "      <td>-0.084227</td>\n",
              "      <td>-0.084227</td>\n",
              "      <td>-0.084227</td>\n",
              "      <td>-0.084227</td>\n",
              "      <td>-0.084227</td>\n",
              "      <td>-0.084227</td>\n",
              "      <td>-0.084227</td>\n",
              "      <td>-0.084227</td>\n",
              "      <td>-0.084227</td>\n",
              "      <td>-0.084227</td>\n",
              "      <td>-0.084227</td>\n",
              "      <td>-0.084227</td>\n",
              "      <td>-0.084227</td>\n",
              "      <td>-0.084227</td>\n",
              "    </tr>\n",
              "  </tbody>\n",
              "</table>\n",
              "<p>5 rows × 7382 columns</p>\n",
              "</div>"
            ],
            "text/plain": [
              "App  Photo Editor & Candy Camera & Grid & ScrapBook  ...  iHoroscope - 2018 Daily Horoscope & Astrology\n",
              "0                                         -0.184793  ...                                      -0.071955\n",
              "1                                         -0.287279  ...                                       0.699548\n",
              "2                                         -0.222001  ...                                      -0.124282\n",
              "3                                         -0.050750  ...                                      -0.050750\n",
              "4                                         11.872722  ...                                      -0.084227\n",
              "\n",
              "[5 rows x 7382 columns]"
            ]
          },
          "metadata": {},
          "execution_count": 93
        }
      ]
    },
    {
      "cell_type": "code",
      "metadata": {
        "id": "o5iqkqFeYcwk",
        "colab": {
          "base_uri": "https://localhost:8080/"
        },
        "outputId": "b4b198fb-81dd-4f41-959f-8747c33f636c"
      },
      "source": [
        "app_recom.shape"
      ],
      "execution_count": 94,
      "outputs": [
        {
          "output_type": "execute_result",
          "data": {
            "text/plain": [
              "(157, 7382)"
            ]
          },
          "metadata": {},
          "execution_count": 94
        }
      ]
    },
    {
      "cell_type": "code",
      "metadata": {
        "id": "AR9qW-nRYfal"
      },
      "source": [
        "for_app=app_recom['Do Not Crash']"
      ],
      "execution_count": 95,
      "outputs": []
    },
    {
      "cell_type": "code",
      "metadata": {
        "id": "rbAK0X9dYhrv",
        "colab": {
          "base_uri": "https://localhost:8080/",
          "height": 388
        },
        "outputId": "d9cac57a-61a6-4f11-d1b9-a736f3768483"
      },
      "source": [
        "recommend=pd.DataFrame(app_recom.corrwith(for_app),columns=['Correlation'])\n",
        "recommend.sort_values('Correlation',ascending=False).head(10)"
      ],
      "execution_count": 96,
      "outputs": [
        {
          "output_type": "execute_result",
          "data": {
            "text/html": [
              "<div>\n",
              "<style scoped>\n",
              "    .dataframe tbody tr th:only-of-type {\n",
              "        vertical-align: middle;\n",
              "    }\n",
              "\n",
              "    .dataframe tbody tr th {\n",
              "        vertical-align: top;\n",
              "    }\n",
              "\n",
              "    .dataframe thead th {\n",
              "        text-align: right;\n",
              "    }\n",
              "</style>\n",
              "<table border=\"1\" class=\"dataframe\">\n",
              "  <thead>\n",
              "    <tr style=\"text-align: right;\">\n",
              "      <th></th>\n",
              "      <th>Correlation</th>\n",
              "    </tr>\n",
              "    <tr>\n",
              "      <th>App</th>\n",
              "      <th></th>\n",
              "    </tr>\n",
              "  </thead>\n",
              "  <tbody>\n",
              "    <tr>\n",
              "      <th>Do Not Crash</th>\n",
              "      <td>1.000000</td>\n",
              "    </tr>\n",
              "    <tr>\n",
              "      <th>Egg: clicker</th>\n",
              "      <td>1.000000</td>\n",
              "    </tr>\n",
              "    <tr>\n",
              "      <th>Plastic Surgery Surgeon Simulator Er Doctor Games</th>\n",
              "      <td>0.999998</td>\n",
              "    </tr>\n",
              "    <tr>\n",
              "      <th>My Ex Girlfriend Comes Back</th>\n",
              "      <td>0.999998</td>\n",
              "    </tr>\n",
              "    <tr>\n",
              "      <th>SegPlay Mobile Paint by Number</th>\n",
              "      <td>0.999997</td>\n",
              "    </tr>\n",
              "    <tr>\n",
              "      <th>Hidden Object Florida Vacation Adventure Fun Game</th>\n",
              "      <td>0.999997</td>\n",
              "    </tr>\n",
              "    <tr>\n",
              "      <th>OMG Gross Zit - Date Nightmare</th>\n",
              "      <td>0.999931</td>\n",
              "    </tr>\n",
              "    <tr>\n",
              "      <th>King Burger Dash</th>\n",
              "      <td>0.999475</td>\n",
              "    </tr>\n",
              "    <tr>\n",
              "      <th>BJ-UFO</th>\n",
              "      <td>0.999475</td>\n",
              "    </tr>\n",
              "    <tr>\n",
              "      <th>Tamago Tap Clicker Egg</th>\n",
              "      <td>0.999475</td>\n",
              "    </tr>\n",
              "  </tbody>\n",
              "</table>\n",
              "</div>"
            ],
            "text/plain": [
              "                                                   Correlation\n",
              "App                                                           \n",
              "Do Not Crash                                          1.000000\n",
              "Egg: clicker                                          1.000000\n",
              "Plastic Surgery Surgeon Simulator Er Doctor Games     0.999998\n",
              "My Ex Girlfriend Comes Back                           0.999998\n",
              "SegPlay Mobile Paint by Number                        0.999997\n",
              "Hidden Object Florida Vacation Adventure Fun Game     0.999997\n",
              "OMG Gross Zit - Date Nightmare                        0.999931\n",
              "King Burger Dash                                      0.999475\n",
              "BJ-UFO                                                0.999475\n",
              "Tamago Tap Clicker Egg                                0.999475"
            ]
          },
          "metadata": {},
          "execution_count": 96
        }
      ]
    }
  ]
}